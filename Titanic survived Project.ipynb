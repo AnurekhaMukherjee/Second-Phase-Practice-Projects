{
 "cells": [
  {
   "cell_type": "markdown",
   "id": "1de7539c",
   "metadata": {},
   "source": [
    "# About Dataset"
   ]
  },
  {
   "cell_type": "markdown",
   "id": "7e6ed773",
   "metadata": {},
   "source": [
    "The Titanic Problem is inspired by the early 1912 sinking of the 'Unsinkable' ship Titanic. It provides details on a variety of people, including their ages, sexes, number of siblings, embarkation places, and whether or not they survived the catastrophe. We must determine if a random passenger on the Titanic would escape the sinking based on these characteristics."
   ]
  },
  {
   "cell_type": "code",
   "execution_count": 1,
   "id": "22193d1c",
   "metadata": {},
   "outputs": [],
   "source": [
    "#Bringing in Libraries \n",
    "import warnings\n",
    "warnings.simplefilter(\"ignore\")\n",
    "import joblib\n",
    "\n",
    "import pandas as pd\n",
    "import numpy as np\n",
    "import seaborn as sns\n",
    "import matplotlib.pyplot as plt\n",
    "%matplotlib inline\n",
    "\n",
    "from sklearn.preprocessing import StandardScaler\n",
    "from sklearn.model_selection import train_test_split\n",
    "from sklearn.linear_model import LogisticRegression\n",
    "from sklearn.svm import SVC\n",
    "from sklearn.tree import DecisionTreeClassifier\n",
    "from sklearn.ensemble import RandomForestClassifier\n",
    "from sklearn.ensemble import ExtraTreesClassifier\n",
    "from sklearn.neighbors import KNeighborsClassifier\n",
    "\n",
    "from sklearn import metrics\n",
    "from sklearn.metrics import classification_report\n",
    "from sklearn.metrics import accuracy_score\n",
    "from sklearn.model_selection import cross_val_score\n",
    "from sklearn.model_selection import GridSearchCV"
   ]
  },
  {
   "cell_type": "markdown",
   "id": "7a18b1be",
   "metadata": {},
   "source": [
    "# Dataset is being loaded from GITHUB"
   ]
  },
  {
   "cell_type": "code",
   "execution_count": 4,
   "id": "8626d2c4",
   "metadata": {},
   "outputs": [],
   "source": [
    "TitanicData  = pd.read_csv('titanic_train.csv')"
   ]
  },
  {
   "cell_type": "code",
   "execution_count": 5,
   "id": "cd48ed05",
   "metadata": {},
   "outputs": [
    {
     "data": {
      "text/plain": [
       "(891, 12)"
      ]
     },
     "execution_count": 5,
     "metadata": {},
     "output_type": "execute_result"
    }
   ],
   "source": [
    "TitanicData.shape"
   ]
  },
  {
   "cell_type": "code",
   "execution_count": 6,
   "id": "0ffe674a",
   "metadata": {},
   "outputs": [
    {
     "data": {
      "text/html": [
       "<div>\n",
       "<style scoped>\n",
       "    .dataframe tbody tr th:only-of-type {\n",
       "        vertical-align: middle;\n",
       "    }\n",
       "\n",
       "    .dataframe tbody tr th {\n",
       "        vertical-align: top;\n",
       "    }\n",
       "\n",
       "    .dataframe thead th {\n",
       "        text-align: right;\n",
       "    }\n",
       "</style>\n",
       "<table border=\"1\" class=\"dataframe\">\n",
       "  <thead>\n",
       "    <tr style=\"text-align: right;\">\n",
       "      <th></th>\n",
       "      <th>PassengerId</th>\n",
       "      <th>Survived</th>\n",
       "      <th>Pclass</th>\n",
       "      <th>Name</th>\n",
       "      <th>Sex</th>\n",
       "      <th>Age</th>\n",
       "      <th>SibSp</th>\n",
       "      <th>Parch</th>\n",
       "      <th>Ticket</th>\n",
       "      <th>Fare</th>\n",
       "      <th>Cabin</th>\n",
       "      <th>Embarked</th>\n",
       "    </tr>\n",
       "  </thead>\n",
       "  <tbody>\n",
       "    <tr>\n",
       "      <th>0</th>\n",
       "      <td>1</td>\n",
       "      <td>0</td>\n",
       "      <td>3</td>\n",
       "      <td>Braund, Mr. Owen Harris</td>\n",
       "      <td>male</td>\n",
       "      <td>22.0</td>\n",
       "      <td>1</td>\n",
       "      <td>0</td>\n",
       "      <td>A/5 21171</td>\n",
       "      <td>7.2500</td>\n",
       "      <td>NaN</td>\n",
       "      <td>S</td>\n",
       "    </tr>\n",
       "    <tr>\n",
       "      <th>1</th>\n",
       "      <td>2</td>\n",
       "      <td>1</td>\n",
       "      <td>1</td>\n",
       "      <td>Cumings, Mrs. John Bradley (Florence Briggs Th...</td>\n",
       "      <td>female</td>\n",
       "      <td>38.0</td>\n",
       "      <td>1</td>\n",
       "      <td>0</td>\n",
       "      <td>PC 17599</td>\n",
       "      <td>71.2833</td>\n",
       "      <td>C85</td>\n",
       "      <td>C</td>\n",
       "    </tr>\n",
       "    <tr>\n",
       "      <th>2</th>\n",
       "      <td>3</td>\n",
       "      <td>1</td>\n",
       "      <td>3</td>\n",
       "      <td>Heikkinen, Miss. Laina</td>\n",
       "      <td>female</td>\n",
       "      <td>26.0</td>\n",
       "      <td>0</td>\n",
       "      <td>0</td>\n",
       "      <td>STON/O2. 3101282</td>\n",
       "      <td>7.9250</td>\n",
       "      <td>NaN</td>\n",
       "      <td>S</td>\n",
       "    </tr>\n",
       "    <tr>\n",
       "      <th>3</th>\n",
       "      <td>4</td>\n",
       "      <td>1</td>\n",
       "      <td>1</td>\n",
       "      <td>Futrelle, Mrs. Jacques Heath (Lily May Peel)</td>\n",
       "      <td>female</td>\n",
       "      <td>35.0</td>\n",
       "      <td>1</td>\n",
       "      <td>0</td>\n",
       "      <td>113803</td>\n",
       "      <td>53.1000</td>\n",
       "      <td>C123</td>\n",
       "      <td>S</td>\n",
       "    </tr>\n",
       "    <tr>\n",
       "      <th>4</th>\n",
       "      <td>5</td>\n",
       "      <td>0</td>\n",
       "      <td>3</td>\n",
       "      <td>Allen, Mr. William Henry</td>\n",
       "      <td>male</td>\n",
       "      <td>35.0</td>\n",
       "      <td>0</td>\n",
       "      <td>0</td>\n",
       "      <td>373450</td>\n",
       "      <td>8.0500</td>\n",
       "      <td>NaN</td>\n",
       "      <td>S</td>\n",
       "    </tr>\n",
       "    <tr>\n",
       "      <th>...</th>\n",
       "      <td>...</td>\n",
       "      <td>...</td>\n",
       "      <td>...</td>\n",
       "      <td>...</td>\n",
       "      <td>...</td>\n",
       "      <td>...</td>\n",
       "      <td>...</td>\n",
       "      <td>...</td>\n",
       "      <td>...</td>\n",
       "      <td>...</td>\n",
       "      <td>...</td>\n",
       "      <td>...</td>\n",
       "    </tr>\n",
       "    <tr>\n",
       "      <th>886</th>\n",
       "      <td>887</td>\n",
       "      <td>0</td>\n",
       "      <td>2</td>\n",
       "      <td>Montvila, Rev. Juozas</td>\n",
       "      <td>male</td>\n",
       "      <td>27.0</td>\n",
       "      <td>0</td>\n",
       "      <td>0</td>\n",
       "      <td>211536</td>\n",
       "      <td>13.0000</td>\n",
       "      <td>NaN</td>\n",
       "      <td>S</td>\n",
       "    </tr>\n",
       "    <tr>\n",
       "      <th>887</th>\n",
       "      <td>888</td>\n",
       "      <td>1</td>\n",
       "      <td>1</td>\n",
       "      <td>Graham, Miss. Margaret Edith</td>\n",
       "      <td>female</td>\n",
       "      <td>19.0</td>\n",
       "      <td>0</td>\n",
       "      <td>0</td>\n",
       "      <td>112053</td>\n",
       "      <td>30.0000</td>\n",
       "      <td>B42</td>\n",
       "      <td>S</td>\n",
       "    </tr>\n",
       "    <tr>\n",
       "      <th>888</th>\n",
       "      <td>889</td>\n",
       "      <td>0</td>\n",
       "      <td>3</td>\n",
       "      <td>Johnston, Miss. Catherine Helen \"Carrie\"</td>\n",
       "      <td>female</td>\n",
       "      <td>NaN</td>\n",
       "      <td>1</td>\n",
       "      <td>2</td>\n",
       "      <td>W./C. 6607</td>\n",
       "      <td>23.4500</td>\n",
       "      <td>NaN</td>\n",
       "      <td>S</td>\n",
       "    </tr>\n",
       "    <tr>\n",
       "      <th>889</th>\n",
       "      <td>890</td>\n",
       "      <td>1</td>\n",
       "      <td>1</td>\n",
       "      <td>Behr, Mr. Karl Howell</td>\n",
       "      <td>male</td>\n",
       "      <td>26.0</td>\n",
       "      <td>0</td>\n",
       "      <td>0</td>\n",
       "      <td>111369</td>\n",
       "      <td>30.0000</td>\n",
       "      <td>C148</td>\n",
       "      <td>C</td>\n",
       "    </tr>\n",
       "    <tr>\n",
       "      <th>890</th>\n",
       "      <td>891</td>\n",
       "      <td>0</td>\n",
       "      <td>3</td>\n",
       "      <td>Dooley, Mr. Patrick</td>\n",
       "      <td>male</td>\n",
       "      <td>32.0</td>\n",
       "      <td>0</td>\n",
       "      <td>0</td>\n",
       "      <td>370376</td>\n",
       "      <td>7.7500</td>\n",
       "      <td>NaN</td>\n",
       "      <td>Q</td>\n",
       "    </tr>\n",
       "  </tbody>\n",
       "</table>\n",
       "<p>891 rows × 12 columns</p>\n",
       "</div>"
      ],
      "text/plain": [
       "     PassengerId  Survived  Pclass  \\\n",
       "0              1         0       3   \n",
       "1              2         1       1   \n",
       "2              3         1       3   \n",
       "3              4         1       1   \n",
       "4              5         0       3   \n",
       "..           ...       ...     ...   \n",
       "886          887         0       2   \n",
       "887          888         1       1   \n",
       "888          889         0       3   \n",
       "889          890         1       1   \n",
       "890          891         0       3   \n",
       "\n",
       "                                                  Name     Sex   Age  SibSp  \\\n",
       "0                              Braund, Mr. Owen Harris    male  22.0      1   \n",
       "1    Cumings, Mrs. John Bradley (Florence Briggs Th...  female  38.0      1   \n",
       "2                               Heikkinen, Miss. Laina  female  26.0      0   \n",
       "3         Futrelle, Mrs. Jacques Heath (Lily May Peel)  female  35.0      1   \n",
       "4                             Allen, Mr. William Henry    male  35.0      0   \n",
       "..                                                 ...     ...   ...    ...   \n",
       "886                              Montvila, Rev. Juozas    male  27.0      0   \n",
       "887                       Graham, Miss. Margaret Edith  female  19.0      0   \n",
       "888           Johnston, Miss. Catherine Helen \"Carrie\"  female   NaN      1   \n",
       "889                              Behr, Mr. Karl Howell    male  26.0      0   \n",
       "890                                Dooley, Mr. Patrick    male  32.0      0   \n",
       "\n",
       "     Parch            Ticket     Fare Cabin Embarked  \n",
       "0        0         A/5 21171   7.2500   NaN        S  \n",
       "1        0          PC 17599  71.2833   C85        C  \n",
       "2        0  STON/O2. 3101282   7.9250   NaN        S  \n",
       "3        0            113803  53.1000  C123        S  \n",
       "4        0            373450   8.0500   NaN        S  \n",
       "..     ...               ...      ...   ...      ...  \n",
       "886      0            211536  13.0000   NaN        S  \n",
       "887      0            112053  30.0000   B42        S  \n",
       "888      2        W./C. 6607  23.4500   NaN        S  \n",
       "889      0            111369  30.0000  C148        C  \n",
       "890      0            370376   7.7500   NaN        Q  \n",
       "\n",
       "[891 rows x 12 columns]"
      ]
     },
     "execution_count": 6,
     "metadata": {},
     "output_type": "execute_result"
    }
   ],
   "source": [
    "TitanicData"
   ]
  },
  {
   "cell_type": "markdown",
   "id": "38b4215e",
   "metadata": {},
   "source": [
    "# EDA, or exploratory data analysis"
   ]
  },
  {
   "cell_type": "code",
   "execution_count": 7,
   "id": "44b0142e",
   "metadata": {},
   "outputs": [
    {
     "data": {
      "text/plain": [
       "Index(['PassengerId', 'Survived', 'Pclass', 'Name', 'Sex', 'Age', 'SibSp',\n",
       "       'Parch', 'Ticket', 'Fare', 'Cabin', 'Embarked'],\n",
       "      dtype='object')"
      ]
     },
     "execution_count": 7,
     "metadata": {},
     "output_type": "execute_result"
    }
   ],
   "source": [
    "TitanicData.columns"
   ]
  },
  {
   "cell_type": "code",
   "execution_count": 8,
   "id": "bc489b8d",
   "metadata": {},
   "outputs": [],
   "source": [
    "TitanicData =TitanicData.drop([\"PassengerId\", \"Name\"], axis=1)"
   ]
  },
  {
   "cell_type": "code",
   "execution_count": 9,
   "id": "c1202ccf",
   "metadata": {},
   "outputs": [
    {
     "data": {
      "text/html": [
       "<div>\n",
       "<style scoped>\n",
       "    .dataframe tbody tr th:only-of-type {\n",
       "        vertical-align: middle;\n",
       "    }\n",
       "\n",
       "    .dataframe tbody tr th {\n",
       "        vertical-align: top;\n",
       "    }\n",
       "\n",
       "    .dataframe thead th {\n",
       "        text-align: right;\n",
       "    }\n",
       "</style>\n",
       "<table border=\"1\" class=\"dataframe\">\n",
       "  <thead>\n",
       "    <tr style=\"text-align: right;\">\n",
       "      <th></th>\n",
       "      <th>Survived</th>\n",
       "      <th>Pclass</th>\n",
       "      <th>Sex</th>\n",
       "      <th>Age</th>\n",
       "      <th>SibSp</th>\n",
       "      <th>Parch</th>\n",
       "      <th>Ticket</th>\n",
       "      <th>Fare</th>\n",
       "      <th>Cabin</th>\n",
       "      <th>Embarked</th>\n",
       "    </tr>\n",
       "  </thead>\n",
       "  <tbody>\n",
       "    <tr>\n",
       "      <th>0</th>\n",
       "      <td>0</td>\n",
       "      <td>3</td>\n",
       "      <td>male</td>\n",
       "      <td>22.0</td>\n",
       "      <td>1</td>\n",
       "      <td>0</td>\n",
       "      <td>A/5 21171</td>\n",
       "      <td>7.2500</td>\n",
       "      <td>NaN</td>\n",
       "      <td>S</td>\n",
       "    </tr>\n",
       "    <tr>\n",
       "      <th>1</th>\n",
       "      <td>1</td>\n",
       "      <td>1</td>\n",
       "      <td>female</td>\n",
       "      <td>38.0</td>\n",
       "      <td>1</td>\n",
       "      <td>0</td>\n",
       "      <td>PC 17599</td>\n",
       "      <td>71.2833</td>\n",
       "      <td>C85</td>\n",
       "      <td>C</td>\n",
       "    </tr>\n",
       "    <tr>\n",
       "      <th>2</th>\n",
       "      <td>1</td>\n",
       "      <td>3</td>\n",
       "      <td>female</td>\n",
       "      <td>26.0</td>\n",
       "      <td>0</td>\n",
       "      <td>0</td>\n",
       "      <td>STON/O2. 3101282</td>\n",
       "      <td>7.9250</td>\n",
       "      <td>NaN</td>\n",
       "      <td>S</td>\n",
       "    </tr>\n",
       "    <tr>\n",
       "      <th>3</th>\n",
       "      <td>1</td>\n",
       "      <td>1</td>\n",
       "      <td>female</td>\n",
       "      <td>35.0</td>\n",
       "      <td>1</td>\n",
       "      <td>0</td>\n",
       "      <td>113803</td>\n",
       "      <td>53.1000</td>\n",
       "      <td>C123</td>\n",
       "      <td>S</td>\n",
       "    </tr>\n",
       "    <tr>\n",
       "      <th>4</th>\n",
       "      <td>0</td>\n",
       "      <td>3</td>\n",
       "      <td>male</td>\n",
       "      <td>35.0</td>\n",
       "      <td>0</td>\n",
       "      <td>0</td>\n",
       "      <td>373450</td>\n",
       "      <td>8.0500</td>\n",
       "      <td>NaN</td>\n",
       "      <td>S</td>\n",
       "    </tr>\n",
       "    <tr>\n",
       "      <th>...</th>\n",
       "      <td>...</td>\n",
       "      <td>...</td>\n",
       "      <td>...</td>\n",
       "      <td>...</td>\n",
       "      <td>...</td>\n",
       "      <td>...</td>\n",
       "      <td>...</td>\n",
       "      <td>...</td>\n",
       "      <td>...</td>\n",
       "      <td>...</td>\n",
       "    </tr>\n",
       "    <tr>\n",
       "      <th>886</th>\n",
       "      <td>0</td>\n",
       "      <td>2</td>\n",
       "      <td>male</td>\n",
       "      <td>27.0</td>\n",
       "      <td>0</td>\n",
       "      <td>0</td>\n",
       "      <td>211536</td>\n",
       "      <td>13.0000</td>\n",
       "      <td>NaN</td>\n",
       "      <td>S</td>\n",
       "    </tr>\n",
       "    <tr>\n",
       "      <th>887</th>\n",
       "      <td>1</td>\n",
       "      <td>1</td>\n",
       "      <td>female</td>\n",
       "      <td>19.0</td>\n",
       "      <td>0</td>\n",
       "      <td>0</td>\n",
       "      <td>112053</td>\n",
       "      <td>30.0000</td>\n",
       "      <td>B42</td>\n",
       "      <td>S</td>\n",
       "    </tr>\n",
       "    <tr>\n",
       "      <th>888</th>\n",
       "      <td>0</td>\n",
       "      <td>3</td>\n",
       "      <td>female</td>\n",
       "      <td>NaN</td>\n",
       "      <td>1</td>\n",
       "      <td>2</td>\n",
       "      <td>W./C. 6607</td>\n",
       "      <td>23.4500</td>\n",
       "      <td>NaN</td>\n",
       "      <td>S</td>\n",
       "    </tr>\n",
       "    <tr>\n",
       "      <th>889</th>\n",
       "      <td>1</td>\n",
       "      <td>1</td>\n",
       "      <td>male</td>\n",
       "      <td>26.0</td>\n",
       "      <td>0</td>\n",
       "      <td>0</td>\n",
       "      <td>111369</td>\n",
       "      <td>30.0000</td>\n",
       "      <td>C148</td>\n",
       "      <td>C</td>\n",
       "    </tr>\n",
       "    <tr>\n",
       "      <th>890</th>\n",
       "      <td>0</td>\n",
       "      <td>3</td>\n",
       "      <td>male</td>\n",
       "      <td>32.0</td>\n",
       "      <td>0</td>\n",
       "      <td>0</td>\n",
       "      <td>370376</td>\n",
       "      <td>7.7500</td>\n",
       "      <td>NaN</td>\n",
       "      <td>Q</td>\n",
       "    </tr>\n",
       "  </tbody>\n",
       "</table>\n",
       "<p>891 rows × 10 columns</p>\n",
       "</div>"
      ],
      "text/plain": [
       "     Survived  Pclass     Sex   Age  SibSp  Parch            Ticket     Fare  \\\n",
       "0           0       3    male  22.0      1      0         A/5 21171   7.2500   \n",
       "1           1       1  female  38.0      1      0          PC 17599  71.2833   \n",
       "2           1       3  female  26.0      0      0  STON/O2. 3101282   7.9250   \n",
       "3           1       1  female  35.0      1      0            113803  53.1000   \n",
       "4           0       3    male  35.0      0      0            373450   8.0500   \n",
       "..        ...     ...     ...   ...    ...    ...               ...      ...   \n",
       "886         0       2    male  27.0      0      0            211536  13.0000   \n",
       "887         1       1  female  19.0      0      0            112053  30.0000   \n",
       "888         0       3  female   NaN      1      2        W./C. 6607  23.4500   \n",
       "889         1       1    male  26.0      0      0            111369  30.0000   \n",
       "890         0       3    male  32.0      0      0            370376   7.7500   \n",
       "\n",
       "    Cabin Embarked  \n",
       "0     NaN        S  \n",
       "1     C85        C  \n",
       "2     NaN        S  \n",
       "3    C123        S  \n",
       "4     NaN        S  \n",
       "..    ...      ...  \n",
       "886   NaN        S  \n",
       "887   B42        S  \n",
       "888   NaN        S  \n",
       "889  C148        C  \n",
       "890   NaN        Q  \n",
       "\n",
       "[891 rows x 10 columns]"
      ]
     },
     "execution_count": 9,
     "metadata": {},
     "output_type": "execute_result"
    }
   ],
   "source": [
    "TitanicData"
   ]
  },
  {
   "cell_type": "markdown",
   "id": "dc0e5fb5",
   "metadata": {},
   "source": [
    "# Checking for missing null values"
   ]
  },
  {
   "cell_type": "code",
   "execution_count": 10,
   "id": "6488a04d",
   "metadata": {},
   "outputs": [
    {
     "data": {
      "text/plain": [
       "Survived      0\n",
       "Pclass        0\n",
       "Sex           0\n",
       "Age         177\n",
       "SibSp         0\n",
       "Parch         0\n",
       "Ticket        0\n",
       "Fare          0\n",
       "Cabin       687\n",
       "Embarked      2\n",
       "dtype: int64"
      ]
     },
     "execution_count": 10,
     "metadata": {},
     "output_type": "execute_result"
    }
   ],
   "source": [
    "TitanicData.isnull().sum()"
   ]
  },
  {
   "cell_type": "markdown",
   "id": "f6a7e012",
   "metadata": {},
   "source": [
    "Inspection:\n",
    "    \n",
    "Age', 'Cabin' and 'Embarked',  all contain null values.\n",
    "\n",
    "Age data is null in 19% of cases, embarked data is null in 0.2% of cases, and cabin data is missing in 77.10% of cases.\n",
    "\n",
    "'Cabin' is being removed because 77.10% of its values are missing and it is therefore unable to develop a strong model that can accurately predict the values of the target variable."
   ]
  },
  {
   "cell_type": "code",
   "execution_count": 11,
   "id": "ecabd7e6",
   "metadata": {},
   "outputs": [],
   "source": [
    "TitanicData = TitanicData.drop(\"Cabin\", axis=1)"
   ]
  },
  {
   "cell_type": "code",
   "execution_count": 12,
   "id": "337a942b",
   "metadata": {},
   "outputs": [
    {
     "data": {
      "text/html": [
       "<div>\n",
       "<style scoped>\n",
       "    .dataframe tbody tr th:only-of-type {\n",
       "        vertical-align: middle;\n",
       "    }\n",
       "\n",
       "    .dataframe tbody tr th {\n",
       "        vertical-align: top;\n",
       "    }\n",
       "\n",
       "    .dataframe thead th {\n",
       "        text-align: right;\n",
       "    }\n",
       "</style>\n",
       "<table border=\"1\" class=\"dataframe\">\n",
       "  <thead>\n",
       "    <tr style=\"text-align: right;\">\n",
       "      <th></th>\n",
       "      <th>Survived</th>\n",
       "      <th>Pclass</th>\n",
       "      <th>Sex</th>\n",
       "      <th>Age</th>\n",
       "      <th>SibSp</th>\n",
       "      <th>Parch</th>\n",
       "      <th>Ticket</th>\n",
       "      <th>Fare</th>\n",
       "      <th>Embarked</th>\n",
       "    </tr>\n",
       "  </thead>\n",
       "  <tbody>\n",
       "    <tr>\n",
       "      <th>0</th>\n",
       "      <td>0</td>\n",
       "      <td>3</td>\n",
       "      <td>male</td>\n",
       "      <td>22.0</td>\n",
       "      <td>1</td>\n",
       "      <td>0</td>\n",
       "      <td>A/5 21171</td>\n",
       "      <td>7.2500</td>\n",
       "      <td>S</td>\n",
       "    </tr>\n",
       "    <tr>\n",
       "      <th>1</th>\n",
       "      <td>1</td>\n",
       "      <td>1</td>\n",
       "      <td>female</td>\n",
       "      <td>38.0</td>\n",
       "      <td>1</td>\n",
       "      <td>0</td>\n",
       "      <td>PC 17599</td>\n",
       "      <td>71.2833</td>\n",
       "      <td>C</td>\n",
       "    </tr>\n",
       "    <tr>\n",
       "      <th>2</th>\n",
       "      <td>1</td>\n",
       "      <td>3</td>\n",
       "      <td>female</td>\n",
       "      <td>26.0</td>\n",
       "      <td>0</td>\n",
       "      <td>0</td>\n",
       "      <td>STON/O2. 3101282</td>\n",
       "      <td>7.9250</td>\n",
       "      <td>S</td>\n",
       "    </tr>\n",
       "    <tr>\n",
       "      <th>3</th>\n",
       "      <td>1</td>\n",
       "      <td>1</td>\n",
       "      <td>female</td>\n",
       "      <td>35.0</td>\n",
       "      <td>1</td>\n",
       "      <td>0</td>\n",
       "      <td>113803</td>\n",
       "      <td>53.1000</td>\n",
       "      <td>S</td>\n",
       "    </tr>\n",
       "    <tr>\n",
       "      <th>4</th>\n",
       "      <td>0</td>\n",
       "      <td>3</td>\n",
       "      <td>male</td>\n",
       "      <td>35.0</td>\n",
       "      <td>0</td>\n",
       "      <td>0</td>\n",
       "      <td>373450</td>\n",
       "      <td>8.0500</td>\n",
       "      <td>S</td>\n",
       "    </tr>\n",
       "    <tr>\n",
       "      <th>...</th>\n",
       "      <td>...</td>\n",
       "      <td>...</td>\n",
       "      <td>...</td>\n",
       "      <td>...</td>\n",
       "      <td>...</td>\n",
       "      <td>...</td>\n",
       "      <td>...</td>\n",
       "      <td>...</td>\n",
       "      <td>...</td>\n",
       "    </tr>\n",
       "    <tr>\n",
       "      <th>886</th>\n",
       "      <td>0</td>\n",
       "      <td>2</td>\n",
       "      <td>male</td>\n",
       "      <td>27.0</td>\n",
       "      <td>0</td>\n",
       "      <td>0</td>\n",
       "      <td>211536</td>\n",
       "      <td>13.0000</td>\n",
       "      <td>S</td>\n",
       "    </tr>\n",
       "    <tr>\n",
       "      <th>887</th>\n",
       "      <td>1</td>\n",
       "      <td>1</td>\n",
       "      <td>female</td>\n",
       "      <td>19.0</td>\n",
       "      <td>0</td>\n",
       "      <td>0</td>\n",
       "      <td>112053</td>\n",
       "      <td>30.0000</td>\n",
       "      <td>S</td>\n",
       "    </tr>\n",
       "    <tr>\n",
       "      <th>888</th>\n",
       "      <td>0</td>\n",
       "      <td>3</td>\n",
       "      <td>female</td>\n",
       "      <td>NaN</td>\n",
       "      <td>1</td>\n",
       "      <td>2</td>\n",
       "      <td>W./C. 6607</td>\n",
       "      <td>23.4500</td>\n",
       "      <td>S</td>\n",
       "    </tr>\n",
       "    <tr>\n",
       "      <th>889</th>\n",
       "      <td>1</td>\n",
       "      <td>1</td>\n",
       "      <td>male</td>\n",
       "      <td>26.0</td>\n",
       "      <td>0</td>\n",
       "      <td>0</td>\n",
       "      <td>111369</td>\n",
       "      <td>30.0000</td>\n",
       "      <td>C</td>\n",
       "    </tr>\n",
       "    <tr>\n",
       "      <th>890</th>\n",
       "      <td>0</td>\n",
       "      <td>3</td>\n",
       "      <td>male</td>\n",
       "      <td>32.0</td>\n",
       "      <td>0</td>\n",
       "      <td>0</td>\n",
       "      <td>370376</td>\n",
       "      <td>7.7500</td>\n",
       "      <td>Q</td>\n",
       "    </tr>\n",
       "  </tbody>\n",
       "</table>\n",
       "<p>891 rows × 9 columns</p>\n",
       "</div>"
      ],
      "text/plain": [
       "     Survived  Pclass     Sex   Age  SibSp  Parch            Ticket     Fare  \\\n",
       "0           0       3    male  22.0      1      0         A/5 21171   7.2500   \n",
       "1           1       1  female  38.0      1      0          PC 17599  71.2833   \n",
       "2           1       3  female  26.0      0      0  STON/O2. 3101282   7.9250   \n",
       "3           1       1  female  35.0      1      0            113803  53.1000   \n",
       "4           0       3    male  35.0      0      0            373450   8.0500   \n",
       "..        ...     ...     ...   ...    ...    ...               ...      ...   \n",
       "886         0       2    male  27.0      0      0            211536  13.0000   \n",
       "887         1       1  female  19.0      0      0            112053  30.0000   \n",
       "888         0       3  female   NaN      1      2        W./C. 6607  23.4500   \n",
       "889         1       1    male  26.0      0      0            111369  30.0000   \n",
       "890         0       3    male  32.0      0      0            370376   7.7500   \n",
       "\n",
       "    Embarked  \n",
       "0          S  \n",
       "1          C  \n",
       "2          S  \n",
       "3          S  \n",
       "4          S  \n",
       "..       ...  \n",
       "886        S  \n",
       "887        S  \n",
       "888        S  \n",
       "889        C  \n",
       "890        Q  \n",
       "\n",
       "[891 rows x 9 columns]"
      ]
     },
     "execution_count": 12,
     "metadata": {},
     "output_type": "execute_result"
    }
   ],
   "source": [
    "TitanicData"
   ]
  },
  {
   "cell_type": "code",
   "execution_count": 13,
   "id": "27c541bd",
   "metadata": {},
   "outputs": [
    {
     "name": "stdout",
     "output_type": "stream",
     "text": [
      "<class 'pandas.core.frame.DataFrame'>\n",
      "RangeIndex: 891 entries, 0 to 890\n",
      "Data columns (total 9 columns):\n",
      " #   Column    Non-Null Count  Dtype  \n",
      "---  ------    --------------  -----  \n",
      " 0   Survived  891 non-null    int64  \n",
      " 1   Pclass    891 non-null    int64  \n",
      " 2   Sex       891 non-null    object \n",
      " 3   Age       714 non-null    float64\n",
      " 4   SibSp     891 non-null    int64  \n",
      " 5   Parch     891 non-null    int64  \n",
      " 6   Ticket    891 non-null    object \n",
      " 7   Fare      891 non-null    float64\n",
      " 8   Embarked  889 non-null    object \n",
      "dtypes: float64(2), int64(4), object(3)\n",
      "memory usage: 62.8+ KB\n"
     ]
    }
   ],
   "source": [
    "#Obtaining the data's basic summary and statistical information\n",
    "TitanicData.info()"
   ]
  },
  {
   "cell_type": "code",
   "execution_count": 14,
   "id": "aeec5625",
   "metadata": {},
   "outputs": [
    {
     "data": {
      "text/plain": [
       "Survived    0.478523\n",
       "Pclass     -0.630548\n",
       "Age         0.389108\n",
       "SibSp       3.695352\n",
       "Parch       2.749117\n",
       "Fare        4.787317\n",
       "dtype: float64"
      ]
     },
     "execution_count": 14,
     "metadata": {},
     "output_type": "execute_result"
    }
   ],
   "source": [
    "TitanicData.skew()"
   ]
  },
  {
   "cell_type": "code",
   "execution_count": 15,
   "id": "add27b18",
   "metadata": {},
   "outputs": [
    {
     "data": {
      "text/html": [
       "<div>\n",
       "<style scoped>\n",
       "    .dataframe tbody tr th:only-of-type {\n",
       "        vertical-align: middle;\n",
       "    }\n",
       "\n",
       "    .dataframe tbody tr th {\n",
       "        vertical-align: top;\n",
       "    }\n",
       "\n",
       "    .dataframe thead th {\n",
       "        text-align: right;\n",
       "    }\n",
       "</style>\n",
       "<table border=\"1\" class=\"dataframe\">\n",
       "  <thead>\n",
       "    <tr style=\"text-align: right;\">\n",
       "      <th></th>\n",
       "      <th>Survived</th>\n",
       "      <th>Pclass</th>\n",
       "      <th>Age</th>\n",
       "      <th>SibSp</th>\n",
       "      <th>Parch</th>\n",
       "      <th>Fare</th>\n",
       "    </tr>\n",
       "  </thead>\n",
       "  <tbody>\n",
       "    <tr>\n",
       "      <th>count</th>\n",
       "      <td>891.000000</td>\n",
       "      <td>891.000000</td>\n",
       "      <td>714.000000</td>\n",
       "      <td>891.000000</td>\n",
       "      <td>891.000000</td>\n",
       "      <td>891.000000</td>\n",
       "    </tr>\n",
       "    <tr>\n",
       "      <th>mean</th>\n",
       "      <td>0.383838</td>\n",
       "      <td>2.308642</td>\n",
       "      <td>29.699118</td>\n",
       "      <td>0.523008</td>\n",
       "      <td>0.381594</td>\n",
       "      <td>32.204208</td>\n",
       "    </tr>\n",
       "    <tr>\n",
       "      <th>std</th>\n",
       "      <td>0.486592</td>\n",
       "      <td>0.836071</td>\n",
       "      <td>14.526497</td>\n",
       "      <td>1.102743</td>\n",
       "      <td>0.806057</td>\n",
       "      <td>49.693429</td>\n",
       "    </tr>\n",
       "    <tr>\n",
       "      <th>min</th>\n",
       "      <td>0.000000</td>\n",
       "      <td>1.000000</td>\n",
       "      <td>0.420000</td>\n",
       "      <td>0.000000</td>\n",
       "      <td>0.000000</td>\n",
       "      <td>0.000000</td>\n",
       "    </tr>\n",
       "    <tr>\n",
       "      <th>25%</th>\n",
       "      <td>0.000000</td>\n",
       "      <td>2.000000</td>\n",
       "      <td>20.125000</td>\n",
       "      <td>0.000000</td>\n",
       "      <td>0.000000</td>\n",
       "      <td>7.910400</td>\n",
       "    </tr>\n",
       "    <tr>\n",
       "      <th>50%</th>\n",
       "      <td>0.000000</td>\n",
       "      <td>3.000000</td>\n",
       "      <td>28.000000</td>\n",
       "      <td>0.000000</td>\n",
       "      <td>0.000000</td>\n",
       "      <td>14.454200</td>\n",
       "    </tr>\n",
       "    <tr>\n",
       "      <th>75%</th>\n",
       "      <td>1.000000</td>\n",
       "      <td>3.000000</td>\n",
       "      <td>38.000000</td>\n",
       "      <td>1.000000</td>\n",
       "      <td>0.000000</td>\n",
       "      <td>31.000000</td>\n",
       "    </tr>\n",
       "    <tr>\n",
       "      <th>max</th>\n",
       "      <td>1.000000</td>\n",
       "      <td>3.000000</td>\n",
       "      <td>80.000000</td>\n",
       "      <td>8.000000</td>\n",
       "      <td>6.000000</td>\n",
       "      <td>512.329200</td>\n",
       "    </tr>\n",
       "  </tbody>\n",
       "</table>\n",
       "</div>"
      ],
      "text/plain": [
       "         Survived      Pclass         Age       SibSp       Parch        Fare\n",
       "count  891.000000  891.000000  714.000000  891.000000  891.000000  891.000000\n",
       "mean     0.383838    2.308642   29.699118    0.523008    0.381594   32.204208\n",
       "std      0.486592    0.836071   14.526497    1.102743    0.806057   49.693429\n",
       "min      0.000000    1.000000    0.420000    0.000000    0.000000    0.000000\n",
       "25%      0.000000    2.000000   20.125000    0.000000    0.000000    7.910400\n",
       "50%      0.000000    3.000000   28.000000    0.000000    0.000000   14.454200\n",
       "75%      1.000000    3.000000   38.000000    1.000000    0.000000   31.000000\n",
       "max      1.000000    3.000000   80.000000    8.000000    6.000000  512.329200"
      ]
     },
     "execution_count": 15,
     "metadata": {},
     "output_type": "execute_result"
    }
   ],
   "source": [
    "TitanicData.describe()"
   ]
  },
  {
   "cell_type": "markdown",
   "id": "833bcf2d",
   "metadata": {},
   "source": [
    "# Positive skewness is shown by a greater Std than mean in the 'Fare' column."
   ]
  },
  {
   "cell_type": "code",
   "execution_count": 16,
   "id": "6c9c5cb5",
   "metadata": {},
   "outputs": [
    {
     "data": {
      "text/plain": [
       "Survived      2\n",
       "Pclass        3\n",
       "Sex           2\n",
       "Age          88\n",
       "SibSp         7\n",
       "Parch         7\n",
       "Ticket      681\n",
       "Fare        248\n",
       "Embarked      3\n",
       "dtype: int64"
      ]
     },
     "execution_count": 16,
     "metadata": {},
     "output_type": "execute_result"
    }
   ],
   "source": [
    "#looking for distinct items in each column\n",
    "\n",
    "TitanicData.nunique()"
   ]
  },
  {
   "cell_type": "markdown",
   "id": "aebfd4ac",
   "metadata": {},
   "source": [
    "# Description of the dataframe:"
   ]
  },
  {
   "cell_type": "markdown",
   "id": "ca85d6ad",
   "metadata": {},
   "source": [
    "The Titanic Problem is inspired by the early 1912 sinking of the 'Unsinkable' ship Titanic. It provides details on a variety of people, including their ages, sexes, number of siblings, embarkation places, and whether or not they survived the catastrophe. Determine if a random passenger on the Titanic would escape the sinking based on these characteristics.\n",
    "\n",
    "Present Columns:\n",
    "\n",
    "Pclass : Class of Passenger Ticket\n",
    "\n",
    "Sex : Sexes of Travellers\n",
    "\n",
    "Age : Passengers' Age\n",
    "\n",
    "Parch : Count of parents and kids on board\n",
    "\n",
    "sibsp : Number of spouses or siblings travelling on board\n",
    "\n",
    "Embarked: Port of embarkation for the traveller\n",
    "\n",
    "Fare : Ticket Cost\n",
    "\n",
    "Cabin : A cabin's number\n",
    "\n",
    "Goal Column:\n",
    "\n",
    "Survived: Whether not or whether they survived"
   ]
  },
  {
   "cell_type": "markdown",
   "id": "bc7a8c0d",
   "metadata": {},
   "source": [
    "# Examination of the Target Class"
   ]
  },
  {
   "cell_type": "code",
   "execution_count": 17,
   "id": "b3d5d8a6",
   "metadata": {},
   "outputs": [
    {
     "data": {
      "text/plain": [
       "array([0, 1], dtype=int64)"
      ]
     },
     "execution_count": 17,
     "metadata": {},
     "output_type": "execute_result"
    }
   ],
   "source": [
    "TitanicData['Survived'].unique()"
   ]
  },
  {
   "cell_type": "markdown",
   "id": "c2eb845d",
   "metadata": {},
   "source": [
    "The Label column/target variable has 2 distinct catergorical values."
   ]
  },
  {
   "cell_type": "code",
   "execution_count": 18,
   "id": "66bbeea9",
   "metadata": {},
   "outputs": [
    {
     "data": {
      "text/plain": [
       "0    549\n",
       "1    342\n",
       "Name: Survived, dtype: int64"
      ]
     },
     "execution_count": 18,
     "metadata": {},
     "output_type": "execute_result"
    }
   ],
   "source": [
    "TitanicData['Survived'].value_counts()"
   ]
  },
  {
   "cell_type": "code",
   "execution_count": 19,
   "id": "2ad63e56",
   "metadata": {},
   "outputs": [
    {
     "data": {
      "text/plain": [
       "<AxesSubplot:xlabel='Survived', ylabel='count'>"
      ]
     },
     "execution_count": 19,
     "metadata": {},
     "output_type": "execute_result"
    },
    {
     "data": {
      "image/png": "[encoded data removed]",
      "text/plain": [
       "<Figure size 640x480 with 1 Axes>"
      ]
     },
     "metadata": {},
     "output_type": "display_data"
    }
   ],
   "source": [
    "# Considering class imbalance\n",
    "\n",
    "sns.countplot(TitanicData['Survived'], palette=\"Set1\")"
   ]
  },
  {
   "cell_type": "code",
   "execution_count": 20,
   "id": "a5fa628d",
   "metadata": {},
   "outputs": [
    {
     "data": {
      "image/png": "[encoded data removed]",
      "text/plain": [
       "<Figure size 640x480 with 1 Axes>"
      ]
     },
     "metadata": {},
     "output_type": "display_data"
    }
   ],
   "source": [
    "labels = '0','1'\n",
    "fig, ax = plt.subplots()\n",
    "ax.pie(TitanicData['Survived'].value_counts(),labels = labels,radius =1,autopct = '%1.2f%%', shadow=True,)\n",
    "plt.show()"
   ]
  },
  {
   "cell_type": "markdown",
   "id": "0b56e6a2",
   "metadata": {},
   "source": [
    "'0' class: 61.62%\n",
    "    \n",
    "'1' Class: 38.38%\n",
    "    \n",
    "There is uneven distribution in the classes."
   ]
  },
  {
   "cell_type": "code",
   "execution_count": 21,
   "id": "a95cfbc7",
   "metadata": {},
   "outputs": [
    {
     "data": {
      "text/plain": [
       "array(['male', 'female'], dtype=object)"
      ]
     },
     "execution_count": 21,
     "metadata": {},
     "output_type": "execute_result"
    }
   ],
   "source": [
    "#Analysing the Categorical Classes in the Feature column\n",
    "TitanicData['Sex'].unique() "
   ]
  },
  {
   "cell_type": "code",
   "execution_count": 22,
   "id": "b7afd9cf",
   "metadata": {},
   "outputs": [
    {
     "data": {
      "text/plain": [
       "male      577\n",
       "female    314\n",
       "Name: Sex, dtype: int64"
      ]
     },
     "execution_count": 22,
     "metadata": {},
     "output_type": "execute_result"
    }
   ],
   "source": [
    "TitanicData['Sex'].value_counts()"
   ]
  },
  {
   "cell_type": "code",
   "execution_count": 23,
   "id": "d5e30e63",
   "metadata": {},
   "outputs": [
    {
     "data": {
      "text/plain": [
       "<AxesSubplot:xlabel='Sex', ylabel='count'>"
      ]
     },
     "execution_count": 23,
     "metadata": {},
     "output_type": "execute_result"
    },
    {
     "data": {
      "image/png": "[encoded data removed]",
      "text/plain": [
       "<Figure size 640x480 with 1 Axes>"
      ]
     },
     "metadata": {},
     "output_type": "display_data"
    }
   ],
   "source": [
    "sns.countplot(TitanicData['Sex'], palette=\"Set1\")"
   ]
  },
  {
   "cell_type": "code",
   "execution_count": 24,
   "id": "be81a468",
   "metadata": {},
   "outputs": [
    {
     "data": {
      "image/png": "[encoded data removed]",
      "text/plain": [
       "<Figure size 640x480 with 1 Axes>"
      ]
     },
     "metadata": {},
     "output_type": "display_data"
    }
   ],
   "source": [
    "labels = 'Male','Female'\n",
    "fig, ax = plt.subplots()\n",
    "ax.pie(TitanicData['Sex'].value_counts(),labels = labels,radius =1,autopct = '%1.2f%%', shadow=True,)\n",
    "plt.show()"
   ]
  },
  {
   "cell_type": "markdown",
   "id": "1a95635d",
   "metadata": {},
   "source": [
    "Males made up 64.76 percent.\n",
    "\n",
    "Females made up 35.24 %."
   ]
  },
  {
   "cell_type": "code",
   "execution_count": 25,
   "id": "18d91cd2",
   "metadata": {},
   "outputs": [
    {
     "data": {
      "text/plain": [
       "array([3, 1, 2], dtype=int64)"
      ]
     },
     "execution_count": 25,
     "metadata": {},
     "output_type": "execute_result"
    }
   ],
   "source": [
    "TitanicData['Pclass'].unique() "
   ]
  },
  {
   "cell_type": "code",
   "execution_count": 26,
   "id": "181be2f1",
   "metadata": {},
   "outputs": [
    {
     "data": {
      "text/plain": [
       "3    491\n",
       "1    216\n",
       "2    184\n",
       "Name: Pclass, dtype: int64"
      ]
     },
     "execution_count": 26,
     "metadata": {},
     "output_type": "execute_result"
    }
   ],
   "source": [
    "TitanicData['Pclass'].value_counts()"
   ]
  },
  {
   "cell_type": "code",
   "execution_count": 27,
   "id": "3618339c",
   "metadata": {},
   "outputs": [
    {
     "data": {
      "text/plain": [
       "<AxesSubplot:xlabel='Pclass', ylabel='count'>"
      ]
     },
     "execution_count": 27,
     "metadata": {},
     "output_type": "execute_result"
    },
    {
     "data": {
      "image/png": "[encoded data removed]",
      "text/plain": [
       "<Figure size 640x480 with 1 Axes>"
      ]
     },
     "metadata": {},
     "output_type": "display_data"
    }
   ],
   "source": [
    "sns.countplot(TitanicData['Pclass'], palette=\"Set1\")"
   ]
  },
  {
   "cell_type": "code",
   "execution_count": 28,
   "id": "c987a0b2",
   "metadata": {},
   "outputs": [
    {
     "data": {
      "image/png": "[encoded data removed]",
      "text/plain": [
       "<Figure size 640x480 with 1 Axes>"
      ]
     },
     "metadata": {},
     "output_type": "display_data"
    }
   ],
   "source": [
    "labels = '3','1','2'\n",
    "fig, ax = plt.subplots()\n",
    "ax.pie(TitanicData['Pclass'].value_counts(),labels = labels,radius =1,autopct = '%1.2f%%', shadow=True,)\n",
    "plt.show()"
   ]
  },
  {
   "cell_type": "markdown",
   "id": "f059ddb7",
   "metadata": {},
   "source": [
    "Pclass: 3 made up the majority of the passengers (55.11% of the total number of passengers).\n",
    "    \n",
    "Pclass: 1 with 20.5 percent\n",
    "    \n",
    "20.65% of passengers belonged to Pclass 2."
   ]
  },
  {
   "cell_type": "code",
   "execution_count": 29,
   "id": "fc0bfc2e",
   "metadata": {},
   "outputs": [
    {
     "data": {
      "text/plain": [
       "array(['S', 'C', 'Q', nan], dtype=object)"
      ]
     },
     "execution_count": 29,
     "metadata": {},
     "output_type": "execute_result"
    }
   ],
   "source": [
    "TitanicData['Embarked'].unique() "
   ]
  },
  {
   "cell_type": "markdown",
   "id": "0ec32f94",
   "metadata": {},
   "source": [
    "The locations of embarkation can be divided into three types."
   ]
  },
  {
   "cell_type": "code",
   "execution_count": 30,
   "id": "33ba83bf",
   "metadata": {},
   "outputs": [
    {
     "data": {
      "text/plain": [
       "2"
      ]
     },
     "execution_count": 30,
     "metadata": {},
     "output_type": "execute_result"
    }
   ],
   "source": [
    "TitanicData['Embarked'].isnull().sum()"
   ]
  },
  {
   "cell_type": "markdown",
   "id": "d075e3d2",
   "metadata": {},
   "source": [
    "Dropping rows with null values makes more sense than using estimate approaches because the training dataset won't suffer significantly from missing those 2 rows."
   ]
  },
  {
   "cell_type": "code",
   "execution_count": 31,
   "id": "0df2a011",
   "metadata": {},
   "outputs": [
    {
     "data": {
      "text/plain": [
       "Int64Index([61, 829], dtype='int64')"
      ]
     },
     "execution_count": 31,
     "metadata": {},
     "output_type": "execute_result"
    }
   ],
   "source": [
    "TitanicData.loc[pd.isna(TitanicData[\"Embarked\"]), :].index #finding the indices where 'Embarked' value is NaN"
   ]
  },
  {
   "cell_type": "code",
   "execution_count": 32,
   "id": "4afb3ede",
   "metadata": {},
   "outputs": [],
   "source": [
    "TitanicData.drop([61,829],inplace=True)"
   ]
  },
  {
   "cell_type": "code",
   "execution_count": 33,
   "id": "aeb8e053",
   "metadata": {},
   "outputs": [
    {
     "data": {
      "text/plain": [
       "(889, 9)"
      ]
     },
     "execution_count": 33,
     "metadata": {},
     "output_type": "execute_result"
    }
   ],
   "source": [
    "TitanicData.shape"
   ]
  },
  {
   "cell_type": "code",
   "execution_count": 34,
   "id": "5a945bd6",
   "metadata": {},
   "outputs": [],
   "source": [
    "TitanicData.reset_index(drop=True,inplace = True)"
   ]
  },
  {
   "cell_type": "code",
   "execution_count": 35,
   "id": "1a1bb15e",
   "metadata": {},
   "outputs": [
    {
     "data": {
      "text/plain": [
       "0"
      ]
     },
     "execution_count": 35,
     "metadata": {},
     "output_type": "execute_result"
    }
   ],
   "source": [
    "TitanicData['Embarked'].isnull().sum() "
   ]
  },
  {
   "cell_type": "markdown",
   "id": "0e6f9cdc",
   "metadata": {},
   "source": [
    "From 'Embarked', all null values have been eliminated."
   ]
  },
  {
   "cell_type": "code",
   "execution_count": 36,
   "id": "211b8f0e",
   "metadata": {},
   "outputs": [
    {
     "data": {
      "text/plain": [
       "S    644\n",
       "C    168\n",
       "Q     77\n",
       "Name: Embarked, dtype: int64"
      ]
     },
     "execution_count": 36,
     "metadata": {},
     "output_type": "execute_result"
    }
   ],
   "source": [
    "TitanicData['Embarked'].value_counts()"
   ]
  },
  {
   "cell_type": "code",
   "execution_count": 37,
   "id": "c8bec5ee",
   "metadata": {},
   "outputs": [
    {
     "data": {
      "text/plain": [
       "<AxesSubplot:xlabel='Embarked', ylabel='count'>"
      ]
     },
     "execution_count": 37,
     "metadata": {},
     "output_type": "execute_result"
    },
    {
     "data": {
      "image/png": "[encoded data removed]",
      "text/plain": [
       "<Figure size 640x480 with 1 Axes>"
      ]
     },
     "metadata": {},
     "output_type": "display_data"
    }
   ],
   "source": [
    "sns.countplot(TitanicData['Embarked'], palette=\"Set1\")"
   ]
  },
  {
   "cell_type": "code",
   "execution_count": 38,
   "id": "70d08cdd",
   "metadata": {},
   "outputs": [
    {
     "data": {
      "image/png": "[encoded data removed]",
      "text/plain": [
       "<Figure size 640x480 with 1 Axes>"
      ]
     },
     "metadata": {},
     "output_type": "display_data"
    }
   ],
   "source": [
    "labels = 'S','C','Q'\n",
    "fig, ax = plt.subplots()\n",
    "ax.pie(TitanicData['Pclass'].value_counts(),labels = labels,radius =1,autopct = '%1.2f%%', shadow=True,)\n",
    "plt.show()"
   ]
  },
  {
   "cell_type": "markdown",
   "id": "d4f5ff9b",
   "metadata": {},
   "source": [
    "'S' was the embark point for 55.23% of the passengers.\n",
    "\n",
    "24.07 percent of travellers embarked at gate 'C'\n",
    "\n",
    "Encoding the categorical data in 'Sex' and 'Embarked' shows that 20.70% of the passengers came "
   ]
  },
  {
   "cell_type": "code",
   "execution_count": 39,
   "id": "1d6b3d08",
   "metadata": {},
   "outputs": [],
   "source": [
    "TitanicData['Sex'] = TitanicData.Sex.map({'female':0,'male':1})"
   ]
  },
  {
   "cell_type": "code",
   "execution_count": 40,
   "id": "01cf5994",
   "metadata": {},
   "outputs": [],
   "source": [
    "dumm = pd.get_dummies(TitanicData['Embarked'],drop_first = False)"
   ]
  },
  {
   "cell_type": "code",
   "execution_count": 41,
   "id": "d2494336",
   "metadata": {},
   "outputs": [
    {
     "data": {
      "text/html": [
       "<div>\n",
       "<style scoped>\n",
       "    .dataframe tbody tr th:only-of-type {\n",
       "        vertical-align: middle;\n",
       "    }\n",
       "\n",
       "    .dataframe tbody tr th {\n",
       "        vertical-align: top;\n",
       "    }\n",
       "\n",
       "    .dataframe thead th {\n",
       "        text-align: right;\n",
       "    }\n",
       "</style>\n",
       "<table border=\"1\" class=\"dataframe\">\n",
       "  <thead>\n",
       "    <tr style=\"text-align: right;\">\n",
       "      <th></th>\n",
       "      <th>C</th>\n",
       "      <th>Q</th>\n",
       "      <th>S</th>\n",
       "    </tr>\n",
       "  </thead>\n",
       "  <tbody>\n",
       "    <tr>\n",
       "      <th>0</th>\n",
       "      <td>0</td>\n",
       "      <td>0</td>\n",
       "      <td>1</td>\n",
       "    </tr>\n",
       "    <tr>\n",
       "      <th>1</th>\n",
       "      <td>1</td>\n",
       "      <td>0</td>\n",
       "      <td>0</td>\n",
       "    </tr>\n",
       "    <tr>\n",
       "      <th>2</th>\n",
       "      <td>0</td>\n",
       "      <td>0</td>\n",
       "      <td>1</td>\n",
       "    </tr>\n",
       "    <tr>\n",
       "      <th>3</th>\n",
       "      <td>0</td>\n",
       "      <td>0</td>\n",
       "      <td>1</td>\n",
       "    </tr>\n",
       "    <tr>\n",
       "      <th>4</th>\n",
       "      <td>0</td>\n",
       "      <td>0</td>\n",
       "      <td>1</td>\n",
       "    </tr>\n",
       "    <tr>\n",
       "      <th>...</th>\n",
       "      <td>...</td>\n",
       "      <td>...</td>\n",
       "      <td>...</td>\n",
       "    </tr>\n",
       "    <tr>\n",
       "      <th>884</th>\n",
       "      <td>0</td>\n",
       "      <td>0</td>\n",
       "      <td>1</td>\n",
       "    </tr>\n",
       "    <tr>\n",
       "      <th>885</th>\n",
       "      <td>0</td>\n",
       "      <td>0</td>\n",
       "      <td>1</td>\n",
       "    </tr>\n",
       "    <tr>\n",
       "      <th>886</th>\n",
       "      <td>0</td>\n",
       "      <td>0</td>\n",
       "      <td>1</td>\n",
       "    </tr>\n",
       "    <tr>\n",
       "      <th>887</th>\n",
       "      <td>1</td>\n",
       "      <td>0</td>\n",
       "      <td>0</td>\n",
       "    </tr>\n",
       "    <tr>\n",
       "      <th>888</th>\n",
       "      <td>0</td>\n",
       "      <td>1</td>\n",
       "      <td>0</td>\n",
       "    </tr>\n",
       "  </tbody>\n",
       "</table>\n",
       "<p>889 rows × 3 columns</p>\n",
       "</div>"
      ],
      "text/plain": [
       "     C  Q  S\n",
       "0    0  0  1\n",
       "1    1  0  0\n",
       "2    0  0  1\n",
       "3    0  0  1\n",
       "4    0  0  1\n",
       "..  .. .. ..\n",
       "884  0  0  1\n",
       "885  0  0  1\n",
       "886  0  0  1\n",
       "887  1  0  0\n",
       "888  0  1  0\n",
       "\n",
       "[889 rows x 3 columns]"
      ]
     },
     "execution_count": 41,
     "metadata": {},
     "output_type": "execute_result"
    }
   ],
   "source": [
    "dumm"
   ]
  },
  {
   "cell_type": "code",
   "execution_count": 42,
   "id": "d2a08690",
   "metadata": {},
   "outputs": [],
   "source": [
    "TitanicData = TitanicData.join(dumm)"
   ]
  },
  {
   "cell_type": "code",
   "execution_count": 43,
   "id": "90269d56",
   "metadata": {},
   "outputs": [],
   "source": [
    "TitanicData.drop(columns = ['Embarked'],axis = 1, inplace = True)"
   ]
  },
  {
   "cell_type": "code",
   "execution_count": 44,
   "id": "0762dba3",
   "metadata": {},
   "outputs": [
    {
     "data": {
      "text/html": [
       "<div>\n",
       "<style scoped>\n",
       "    .dataframe tbody tr th:only-of-type {\n",
       "        vertical-align: middle;\n",
       "    }\n",
       "\n",
       "    .dataframe tbody tr th {\n",
       "        vertical-align: top;\n",
       "    }\n",
       "\n",
       "    .dataframe thead th {\n",
       "        text-align: right;\n",
       "    }\n",
       "</style>\n",
       "<table border=\"1\" class=\"dataframe\">\n",
       "  <thead>\n",
       "    <tr style=\"text-align: right;\">\n",
       "      <th></th>\n",
       "      <th>Survived</th>\n",
       "      <th>Pclass</th>\n",
       "      <th>Sex</th>\n",
       "      <th>Age</th>\n",
       "      <th>SibSp</th>\n",
       "      <th>Parch</th>\n",
       "      <th>Ticket</th>\n",
       "      <th>Fare</th>\n",
       "      <th>C</th>\n",
       "      <th>Q</th>\n",
       "      <th>S</th>\n",
       "    </tr>\n",
       "  </thead>\n",
       "  <tbody>\n",
       "    <tr>\n",
       "      <th>0</th>\n",
       "      <td>0</td>\n",
       "      <td>3</td>\n",
       "      <td>1</td>\n",
       "      <td>22.0</td>\n",
       "      <td>1</td>\n",
       "      <td>0</td>\n",
       "      <td>A/5 21171</td>\n",
       "      <td>7.2500</td>\n",
       "      <td>0</td>\n",
       "      <td>0</td>\n",
       "      <td>1</td>\n",
       "    </tr>\n",
       "    <tr>\n",
       "      <th>1</th>\n",
       "      <td>1</td>\n",
       "      <td>1</td>\n",
       "      <td>0</td>\n",
       "      <td>38.0</td>\n",
       "      <td>1</td>\n",
       "      <td>0</td>\n",
       "      <td>PC 17599</td>\n",
       "      <td>71.2833</td>\n",
       "      <td>1</td>\n",
       "      <td>0</td>\n",
       "      <td>0</td>\n",
       "    </tr>\n",
       "    <tr>\n",
       "      <th>2</th>\n",
       "      <td>1</td>\n",
       "      <td>3</td>\n",
       "      <td>0</td>\n",
       "      <td>26.0</td>\n",
       "      <td>0</td>\n",
       "      <td>0</td>\n",
       "      <td>STON/O2. 3101282</td>\n",
       "      <td>7.9250</td>\n",
       "      <td>0</td>\n",
       "      <td>0</td>\n",
       "      <td>1</td>\n",
       "    </tr>\n",
       "    <tr>\n",
       "      <th>3</th>\n",
       "      <td>1</td>\n",
       "      <td>1</td>\n",
       "      <td>0</td>\n",
       "      <td>35.0</td>\n",
       "      <td>1</td>\n",
       "      <td>0</td>\n",
       "      <td>113803</td>\n",
       "      <td>53.1000</td>\n",
       "      <td>0</td>\n",
       "      <td>0</td>\n",
       "      <td>1</td>\n",
       "    </tr>\n",
       "    <tr>\n",
       "      <th>4</th>\n",
       "      <td>0</td>\n",
       "      <td>3</td>\n",
       "      <td>1</td>\n",
       "      <td>35.0</td>\n",
       "      <td>0</td>\n",
       "      <td>0</td>\n",
       "      <td>373450</td>\n",
       "      <td>8.0500</td>\n",
       "      <td>0</td>\n",
       "      <td>0</td>\n",
       "      <td>1</td>\n",
       "    </tr>\n",
       "    <tr>\n",
       "      <th>...</th>\n",
       "      <td>...</td>\n",
       "      <td>...</td>\n",
       "      <td>...</td>\n",
       "      <td>...</td>\n",
       "      <td>...</td>\n",
       "      <td>...</td>\n",
       "      <td>...</td>\n",
       "      <td>...</td>\n",
       "      <td>...</td>\n",
       "      <td>...</td>\n",
       "      <td>...</td>\n",
       "    </tr>\n",
       "    <tr>\n",
       "      <th>884</th>\n",
       "      <td>0</td>\n",
       "      <td>2</td>\n",
       "      <td>1</td>\n",
       "      <td>27.0</td>\n",
       "      <td>0</td>\n",
       "      <td>0</td>\n",
       "      <td>211536</td>\n",
       "      <td>13.0000</td>\n",
       "      <td>0</td>\n",
       "      <td>0</td>\n",
       "      <td>1</td>\n",
       "    </tr>\n",
       "    <tr>\n",
       "      <th>885</th>\n",
       "      <td>1</td>\n",
       "      <td>1</td>\n",
       "      <td>0</td>\n",
       "      <td>19.0</td>\n",
       "      <td>0</td>\n",
       "      <td>0</td>\n",
       "      <td>112053</td>\n",
       "      <td>30.0000</td>\n",
       "      <td>0</td>\n",
       "      <td>0</td>\n",
       "      <td>1</td>\n",
       "    </tr>\n",
       "    <tr>\n",
       "      <th>886</th>\n",
       "      <td>0</td>\n",
       "      <td>3</td>\n",
       "      <td>0</td>\n",
       "      <td>NaN</td>\n",
       "      <td>1</td>\n",
       "      <td>2</td>\n",
       "      <td>W./C. 6607</td>\n",
       "      <td>23.4500</td>\n",
       "      <td>0</td>\n",
       "      <td>0</td>\n",
       "      <td>1</td>\n",
       "    </tr>\n",
       "    <tr>\n",
       "      <th>887</th>\n",
       "      <td>1</td>\n",
       "      <td>1</td>\n",
       "      <td>1</td>\n",
       "      <td>26.0</td>\n",
       "      <td>0</td>\n",
       "      <td>0</td>\n",
       "      <td>111369</td>\n",
       "      <td>30.0000</td>\n",
       "      <td>1</td>\n",
       "      <td>0</td>\n",
       "      <td>0</td>\n",
       "    </tr>\n",
       "    <tr>\n",
       "      <th>888</th>\n",
       "      <td>0</td>\n",
       "      <td>3</td>\n",
       "      <td>1</td>\n",
       "      <td>32.0</td>\n",
       "      <td>0</td>\n",
       "      <td>0</td>\n",
       "      <td>370376</td>\n",
       "      <td>7.7500</td>\n",
       "      <td>0</td>\n",
       "      <td>1</td>\n",
       "      <td>0</td>\n",
       "    </tr>\n",
       "  </tbody>\n",
       "</table>\n",
       "<p>889 rows × 11 columns</p>\n",
       "</div>"
      ],
      "text/plain": [
       "     Survived  Pclass  Sex   Age  SibSp  Parch            Ticket     Fare  C  \\\n",
       "0           0       3    1  22.0      1      0         A/5 21171   7.2500  0   \n",
       "1           1       1    0  38.0      1      0          PC 17599  71.2833  1   \n",
       "2           1       3    0  26.0      0      0  STON/O2. 3101282   7.9250  0   \n",
       "3           1       1    0  35.0      1      0            113803  53.1000  0   \n",
       "4           0       3    1  35.0      0      0            373450   8.0500  0   \n",
       "..        ...     ...  ...   ...    ...    ...               ...      ... ..   \n",
       "884         0       2    1  27.0      0      0            211536  13.0000  0   \n",
       "885         1       1    0  19.0      0      0            112053  30.0000  0   \n",
       "886         0       3    0   NaN      1      2        W./C. 6607  23.4500  0   \n",
       "887         1       1    1  26.0      0      0            111369  30.0000  1   \n",
       "888         0       3    1  32.0      0      0            370376   7.7500  0   \n",
       "\n",
       "     Q  S  \n",
       "0    0  1  \n",
       "1    0  0  \n",
       "2    0  1  \n",
       "3    0  1  \n",
       "4    0  1  \n",
       "..  .. ..  \n",
       "884  0  1  \n",
       "885  0  1  \n",
       "886  0  1  \n",
       "887  0  0  \n",
       "888  1  0  \n",
       "\n",
       "[889 rows x 11 columns]"
      ]
     },
     "execution_count": 44,
     "metadata": {},
     "output_type": "execute_result"
    }
   ],
   "source": [
    "TitanicData"
   ]
  },
  {
   "cell_type": "code",
   "execution_count": 45,
   "id": "43933681",
   "metadata": {},
   "outputs": [],
   "source": [
    "TitanicData.drop(columns = ['Ticket'],inplace = True)"
   ]
  },
  {
   "cell_type": "code",
   "execution_count": 46,
   "id": "d6270b30",
   "metadata": {},
   "outputs": [
    {
     "data": {
      "text/html": [
       "<div>\n",
       "<style scoped>\n",
       "    .dataframe tbody tr th:only-of-type {\n",
       "        vertical-align: middle;\n",
       "    }\n",
       "\n",
       "    .dataframe tbody tr th {\n",
       "        vertical-align: top;\n",
       "    }\n",
       "\n",
       "    .dataframe thead th {\n",
       "        text-align: right;\n",
       "    }\n",
       "</style>\n",
       "<table border=\"1\" class=\"dataframe\">\n",
       "  <thead>\n",
       "    <tr style=\"text-align: right;\">\n",
       "      <th></th>\n",
       "      <th>Survived</th>\n",
       "      <th>Pclass</th>\n",
       "      <th>Sex</th>\n",
       "      <th>Age</th>\n",
       "      <th>SibSp</th>\n",
       "      <th>Parch</th>\n",
       "      <th>Fare</th>\n",
       "      <th>C</th>\n",
       "      <th>Q</th>\n",
       "      <th>S</th>\n",
       "    </tr>\n",
       "  </thead>\n",
       "  <tbody>\n",
       "    <tr>\n",
       "      <th>0</th>\n",
       "      <td>0</td>\n",
       "      <td>3</td>\n",
       "      <td>1</td>\n",
       "      <td>22.0</td>\n",
       "      <td>1</td>\n",
       "      <td>0</td>\n",
       "      <td>7.2500</td>\n",
       "      <td>0</td>\n",
       "      <td>0</td>\n",
       "      <td>1</td>\n",
       "    </tr>\n",
       "    <tr>\n",
       "      <th>1</th>\n",
       "      <td>1</td>\n",
       "      <td>1</td>\n",
       "      <td>0</td>\n",
       "      <td>38.0</td>\n",
       "      <td>1</td>\n",
       "      <td>0</td>\n",
       "      <td>71.2833</td>\n",
       "      <td>1</td>\n",
       "      <td>0</td>\n",
       "      <td>0</td>\n",
       "    </tr>\n",
       "    <tr>\n",
       "      <th>2</th>\n",
       "      <td>1</td>\n",
       "      <td>3</td>\n",
       "      <td>0</td>\n",
       "      <td>26.0</td>\n",
       "      <td>0</td>\n",
       "      <td>0</td>\n",
       "      <td>7.9250</td>\n",
       "      <td>0</td>\n",
       "      <td>0</td>\n",
       "      <td>1</td>\n",
       "    </tr>\n",
       "    <tr>\n",
       "      <th>3</th>\n",
       "      <td>1</td>\n",
       "      <td>1</td>\n",
       "      <td>0</td>\n",
       "      <td>35.0</td>\n",
       "      <td>1</td>\n",
       "      <td>0</td>\n",
       "      <td>53.1000</td>\n",
       "      <td>0</td>\n",
       "      <td>0</td>\n",
       "      <td>1</td>\n",
       "    </tr>\n",
       "    <tr>\n",
       "      <th>4</th>\n",
       "      <td>0</td>\n",
       "      <td>3</td>\n",
       "      <td>1</td>\n",
       "      <td>35.0</td>\n",
       "      <td>0</td>\n",
       "      <td>0</td>\n",
       "      <td>8.0500</td>\n",
       "      <td>0</td>\n",
       "      <td>0</td>\n",
       "      <td>1</td>\n",
       "    </tr>\n",
       "    <tr>\n",
       "      <th>...</th>\n",
       "      <td>...</td>\n",
       "      <td>...</td>\n",
       "      <td>...</td>\n",
       "      <td>...</td>\n",
       "      <td>...</td>\n",
       "      <td>...</td>\n",
       "      <td>...</td>\n",
       "      <td>...</td>\n",
       "      <td>...</td>\n",
       "      <td>...</td>\n",
       "    </tr>\n",
       "    <tr>\n",
       "      <th>884</th>\n",
       "      <td>0</td>\n",
       "      <td>2</td>\n",
       "      <td>1</td>\n",
       "      <td>27.0</td>\n",
       "      <td>0</td>\n",
       "      <td>0</td>\n",
       "      <td>13.0000</td>\n",
       "      <td>0</td>\n",
       "      <td>0</td>\n",
       "      <td>1</td>\n",
       "    </tr>\n",
       "    <tr>\n",
       "      <th>885</th>\n",
       "      <td>1</td>\n",
       "      <td>1</td>\n",
       "      <td>0</td>\n",
       "      <td>19.0</td>\n",
       "      <td>0</td>\n",
       "      <td>0</td>\n",
       "      <td>30.0000</td>\n",
       "      <td>0</td>\n",
       "      <td>0</td>\n",
       "      <td>1</td>\n",
       "    </tr>\n",
       "    <tr>\n",
       "      <th>886</th>\n",
       "      <td>0</td>\n",
       "      <td>3</td>\n",
       "      <td>0</td>\n",
       "      <td>NaN</td>\n",
       "      <td>1</td>\n",
       "      <td>2</td>\n",
       "      <td>23.4500</td>\n",
       "      <td>0</td>\n",
       "      <td>0</td>\n",
       "      <td>1</td>\n",
       "    </tr>\n",
       "    <tr>\n",
       "      <th>887</th>\n",
       "      <td>1</td>\n",
       "      <td>1</td>\n",
       "      <td>1</td>\n",
       "      <td>26.0</td>\n",
       "      <td>0</td>\n",
       "      <td>0</td>\n",
       "      <td>30.0000</td>\n",
       "      <td>1</td>\n",
       "      <td>0</td>\n",
       "      <td>0</td>\n",
       "    </tr>\n",
       "    <tr>\n",
       "      <th>888</th>\n",
       "      <td>0</td>\n",
       "      <td>3</td>\n",
       "      <td>1</td>\n",
       "      <td>32.0</td>\n",
       "      <td>0</td>\n",
       "      <td>0</td>\n",
       "      <td>7.7500</td>\n",
       "      <td>0</td>\n",
       "      <td>1</td>\n",
       "      <td>0</td>\n",
       "    </tr>\n",
       "  </tbody>\n",
       "</table>\n",
       "<p>889 rows × 10 columns</p>\n",
       "</div>"
      ],
      "text/plain": [
       "     Survived  Pclass  Sex   Age  SibSp  Parch     Fare  C  Q  S\n",
       "0           0       3    1  22.0      1      0   7.2500  0  0  1\n",
       "1           1       1    0  38.0      1      0  71.2833  1  0  0\n",
       "2           1       3    0  26.0      0      0   7.9250  0  0  1\n",
       "3           1       1    0  35.0      1      0  53.1000  0  0  1\n",
       "4           0       3    1  35.0      0      0   8.0500  0  0  1\n",
       "..        ...     ...  ...   ...    ...    ...      ... .. .. ..\n",
       "884         0       2    1  27.0      0      0  13.0000  0  0  1\n",
       "885         1       1    0  19.0      0      0  30.0000  0  0  1\n",
       "886         0       3    0   NaN      1      2  23.4500  0  0  1\n",
       "887         1       1    1  26.0      0      0  30.0000  1  0  0\n",
       "888         0       3    1  32.0      0      0   7.7500  0  1  0\n",
       "\n",
       "[889 rows x 10 columns]"
      ]
     },
     "execution_count": 46,
     "metadata": {},
     "output_type": "execute_result"
    }
   ],
   "source": [
    "TitanicData"
   ]
  },
  {
   "cell_type": "code",
   "execution_count": 47,
   "id": "c17bef62",
   "metadata": {},
   "outputs": [
    {
     "data": {
      "text/plain": [
       "<AxesSubplot:xlabel='Age'>"
      ]
     },
     "execution_count": 47,
     "metadata": {},
     "output_type": "execute_result"
    },
    {
     "data": {
      "image/png": "[encoded data removed]",
      "text/plain": [
       "<Figure size 640x480 with 1 Axes>"
      ]
     },
     "metadata": {},
     "output_type": "display_data"
    }
   ],
   "source": [
    "#values of NaN in the \"Age\" column\n",
    "sns.boxplot(TitanicData['Age'])"
   ]
  },
  {
   "cell_type": "markdown",
   "id": "141c62f6",
   "metadata": {},
   "source": [
    "Age contains outliers, thus mean data won't be utilised to fill in the missing values because it is impacted by outliers."
   ]
  },
  {
   "cell_type": "code",
   "execution_count": 48,
   "id": "b505fdc5",
   "metadata": {},
   "outputs": [],
   "source": [
    "#Utilising the KNN Imputation technique to fill in the gaps in the data.\n",
    "from sklearn.impute import KNNImputer\n",
    "imp = KNNImputer(n_neighbors=2)\n",
    "TitanicData_new= TitanicData.copy()"
   ]
  },
  {
   "cell_type": "code",
   "execution_count": 49,
   "id": "d49c4500",
   "metadata": {},
   "outputs": [],
   "source": [
    "TitanicData_new = imp.fit_transform(TitanicData_new[['Sex','Age']])"
   ]
  },
  {
   "cell_type": "code",
   "execution_count": 50,
   "id": "283164b1",
   "metadata": {},
   "outputs": [
    {
     "data": {
      "text/plain": [
       "array([[ 1., 22.],\n",
       "       [ 0., 38.],\n",
       "       [ 0., 26.],\n",
       "       ...,\n",
       "       [ 0., 32.],\n",
       "       [ 1., 26.],\n",
       "       [ 1., 32.]])"
      ]
     },
     "execution_count": 50,
     "metadata": {},
     "output_type": "execute_result"
    }
   ],
   "source": [
    "TitanicData_new "
   ]
  },
  {
   "cell_type": "code",
   "execution_count": 51,
   "id": "10ffcdc9",
   "metadata": {},
   "outputs": [
    {
     "data": {
      "text/plain": [
       "numpy.ndarray"
      ]
     },
     "execution_count": 51,
     "metadata": {},
     "output_type": "execute_result"
    }
   ],
   "source": [
    "type(TitanicData_new)"
   ]
  },
  {
   "cell_type": "code",
   "execution_count": 52,
   "id": "e203053e",
   "metadata": {},
   "outputs": [],
   "source": [
    "TitanicData_new = pd.DataFrame(TitanicData_new, columns=['Sex','Age'])"
   ]
  },
  {
   "cell_type": "code",
   "execution_count": 53,
   "id": "d5ffc9b4",
   "metadata": {},
   "outputs": [],
   "source": [
    "TitanicData_new.index = TitanicData.index"
   ]
  },
  {
   "cell_type": "code",
   "execution_count": 54,
   "id": "41c2bb4a",
   "metadata": {},
   "outputs": [],
   "source": [
    "TitanicData[['Age','Sex']] = TitanicData_new[['Age','Sex']]"
   ]
  },
  {
   "cell_type": "code",
   "execution_count": 55,
   "id": "a8533395",
   "metadata": {},
   "outputs": [
    {
     "data": {
      "text/plain": [
       "0"
      ]
     },
     "execution_count": 55,
     "metadata": {},
     "output_type": "execute_result"
    }
   ],
   "source": [
    "TitanicData['Age'].isnull().sum()"
   ]
  },
  {
   "cell_type": "code",
   "execution_count": 56,
   "id": "69d3de55",
   "metadata": {},
   "outputs": [
    {
     "data": {
      "text/html": [
       "<div>\n",
       "<style scoped>\n",
       "    .dataframe tbody tr th:only-of-type {\n",
       "        vertical-align: middle;\n",
       "    }\n",
       "\n",
       "    .dataframe tbody tr th {\n",
       "        vertical-align: top;\n",
       "    }\n",
       "\n",
       "    .dataframe thead th {\n",
       "        text-align: right;\n",
       "    }\n",
       "</style>\n",
       "<table border=\"1\" class=\"dataframe\">\n",
       "  <thead>\n",
       "    <tr style=\"text-align: right;\">\n",
       "      <th></th>\n",
       "      <th>Survived</th>\n",
       "      <th>Pclass</th>\n",
       "      <th>Sex</th>\n",
       "      <th>Age</th>\n",
       "      <th>SibSp</th>\n",
       "      <th>Parch</th>\n",
       "      <th>Fare</th>\n",
       "      <th>C</th>\n",
       "      <th>Q</th>\n",
       "      <th>S</th>\n",
       "    </tr>\n",
       "  </thead>\n",
       "  <tbody>\n",
       "    <tr>\n",
       "      <th>Survived</th>\n",
       "      <td>1.000000</td>\n",
       "      <td>-0.335549</td>\n",
       "      <td>-0.541585</td>\n",
       "      <td>-0.061387</td>\n",
       "      <td>-0.034040</td>\n",
       "      <td>0.083151</td>\n",
       "      <td>0.255290</td>\n",
       "      <td>0.169966</td>\n",
       "      <td>0.004536</td>\n",
       "      <td>-0.151777</td>\n",
       "    </tr>\n",
       "    <tr>\n",
       "      <th>Pclass</th>\n",
       "      <td>-0.335549</td>\n",
       "      <td>1.000000</td>\n",
       "      <td>0.127741</td>\n",
       "      <td>-0.327795</td>\n",
       "      <td>0.081656</td>\n",
       "      <td>0.016824</td>\n",
       "      <td>-0.548193</td>\n",
       "      <td>-0.245733</td>\n",
       "      <td>0.220558</td>\n",
       "      <td>0.076466</td>\n",
       "    </tr>\n",
       "    <tr>\n",
       "      <th>Sex</th>\n",
       "      <td>-0.541585</td>\n",
       "      <td>0.127741</td>\n",
       "      <td>1.000000</td>\n",
       "      <td>0.065452</td>\n",
       "      <td>-0.116348</td>\n",
       "      <td>-0.247508</td>\n",
       "      <td>-0.179958</td>\n",
       "      <td>-0.084520</td>\n",
       "      <td>-0.075217</td>\n",
       "      <td>0.121405</td>\n",
       "    </tr>\n",
       "    <tr>\n",
       "      <th>Age</th>\n",
       "      <td>-0.061387</td>\n",
       "      <td>-0.327795</td>\n",
       "      <td>0.065452</td>\n",
       "      <td>1.000000</td>\n",
       "      <td>-0.225819</td>\n",
       "      <td>-0.173839</td>\n",
       "      <td>0.091212</td>\n",
       "      <td>0.034131</td>\n",
       "      <td>-0.004313</td>\n",
       "      <td>-0.027190</td>\n",
       "    </tr>\n",
       "    <tr>\n",
       "      <th>SibSp</th>\n",
       "      <td>-0.034040</td>\n",
       "      <td>0.081656</td>\n",
       "      <td>-0.116348</td>\n",
       "      <td>-0.225819</td>\n",
       "      <td>1.000000</td>\n",
       "      <td>0.414542</td>\n",
       "      <td>0.160887</td>\n",
       "      <td>-0.060074</td>\n",
       "      <td>-0.026692</td>\n",
       "      <td>0.069438</td>\n",
       "    </tr>\n",
       "    <tr>\n",
       "      <th>Parch</th>\n",
       "      <td>0.083151</td>\n",
       "      <td>0.016824</td>\n",
       "      <td>-0.247508</td>\n",
       "      <td>-0.173839</td>\n",
       "      <td>0.414542</td>\n",
       "      <td>1.000000</td>\n",
       "      <td>0.217532</td>\n",
       "      <td>-0.011588</td>\n",
       "      <td>-0.081585</td>\n",
       "      <td>0.061512</td>\n",
       "    </tr>\n",
       "    <tr>\n",
       "      <th>Fare</th>\n",
       "      <td>0.255290</td>\n",
       "      <td>-0.548193</td>\n",
       "      <td>-0.179958</td>\n",
       "      <td>0.091212</td>\n",
       "      <td>0.160887</td>\n",
       "      <td>0.217532</td>\n",
       "      <td>1.000000</td>\n",
       "      <td>0.270731</td>\n",
       "      <td>-0.116684</td>\n",
       "      <td>-0.163758</td>\n",
       "    </tr>\n",
       "    <tr>\n",
       "      <th>C</th>\n",
       "      <td>0.169966</td>\n",
       "      <td>-0.245733</td>\n",
       "      <td>-0.084520</td>\n",
       "      <td>0.034131</td>\n",
       "      <td>-0.060074</td>\n",
       "      <td>-0.011588</td>\n",
       "      <td>0.270731</td>\n",
       "      <td>1.000000</td>\n",
       "      <td>-0.148646</td>\n",
       "      <td>-0.782613</td>\n",
       "    </tr>\n",
       "    <tr>\n",
       "      <th>Q</th>\n",
       "      <td>0.004536</td>\n",
       "      <td>0.220558</td>\n",
       "      <td>-0.075217</td>\n",
       "      <td>-0.004313</td>\n",
       "      <td>-0.026692</td>\n",
       "      <td>-0.081585</td>\n",
       "      <td>-0.116684</td>\n",
       "      <td>-0.148646</td>\n",
       "      <td>1.000000</td>\n",
       "      <td>-0.499261</td>\n",
       "    </tr>\n",
       "    <tr>\n",
       "      <th>S</th>\n",
       "      <td>-0.151777</td>\n",
       "      <td>0.076466</td>\n",
       "      <td>0.121405</td>\n",
       "      <td>-0.027190</td>\n",
       "      <td>0.069438</td>\n",
       "      <td>0.061512</td>\n",
       "      <td>-0.163758</td>\n",
       "      <td>-0.782613</td>\n",
       "      <td>-0.499261</td>\n",
       "      <td>1.000000</td>\n",
       "    </tr>\n",
       "  </tbody>\n",
       "</table>\n",
       "</div>"
      ],
      "text/plain": [
       "          Survived    Pclass       Sex       Age     SibSp     Parch  \\\n",
       "Survived  1.000000 -0.335549 -0.541585 -0.061387 -0.034040  0.083151   \n",
       "Pclass   -0.335549  1.000000  0.127741 -0.327795  0.081656  0.016824   \n",
       "Sex      -0.541585  0.127741  1.000000  0.065452 -0.116348 -0.247508   \n",
       "Age      -0.061387 -0.327795  0.065452  1.000000 -0.225819 -0.173839   \n",
       "SibSp    -0.034040  0.081656 -0.116348 -0.225819  1.000000  0.414542   \n",
       "Parch     0.083151  0.016824 -0.247508 -0.173839  0.414542  1.000000   \n",
       "Fare      0.255290 -0.548193 -0.179958  0.091212  0.160887  0.217532   \n",
       "C         0.169966 -0.245733 -0.084520  0.034131 -0.060074 -0.011588   \n",
       "Q         0.004536  0.220558 -0.075217 -0.004313 -0.026692 -0.081585   \n",
       "S        -0.151777  0.076466  0.121405 -0.027190  0.069438  0.061512   \n",
       "\n",
       "              Fare         C         Q         S  \n",
       "Survived  0.255290  0.169966  0.004536 -0.151777  \n",
       "Pclass   -0.548193 -0.245733  0.220558  0.076466  \n",
       "Sex      -0.179958 -0.084520 -0.075217  0.121405  \n",
       "Age       0.091212  0.034131 -0.004313 -0.027190  \n",
       "SibSp     0.160887 -0.060074 -0.026692  0.069438  \n",
       "Parch     0.217532 -0.011588 -0.081585  0.061512  \n",
       "Fare      1.000000  0.270731 -0.116684 -0.163758  \n",
       "C         0.270731  1.000000 -0.148646 -0.782613  \n",
       "Q        -0.116684 -0.148646  1.000000 -0.499261  \n",
       "S        -0.163758 -0.782613 -0.499261  1.000000  "
      ]
     },
     "execution_count": 56,
     "metadata": {},
     "output_type": "execute_result"
    }
   ],
   "source": [
    "#Discovering Correlation\n",
    "t_corr = TitanicData.corr()\n",
    "t_corr"
   ]
  },
  {
   "cell_type": "code",
   "execution_count": 57,
   "id": "c366135f",
   "metadata": {},
   "outputs": [
    {
     "data": {
      "image/png": "[encoded data removed]",
      "text/plain": [
       "<Figure size 640x480 with 2 Axes>"
      ]
     },
     "metadata": {},
     "output_type": "display_data"
    }
   ],
   "source": [
    "plt.figure\n",
    "sns.heatmap(t_corr,annot=True,linewidth=1)\n",
    "plt.show()"
   ]
  },
  {
   "cell_type": "markdown",
   "id": "3fbea684",
   "metadata": {},
   "source": [
    "# Displaying the relationship between the feature and label columns"
   ]
  },
  {
   "cell_type": "code",
   "execution_count": 58,
   "id": "44dc9d97",
   "metadata": {},
   "outputs": [
    {
     "data": {
      "image/png": "[encoded data removed]",
      "text/plain": [
       "<Figure size 2000x800 with 1 Axes>"
      ]
     },
     "metadata": {},
     "output_type": "display_data"
    }
   ],
   "source": [
    "plt.figure(figsize = (20,8))\n",
    "TitanicData.corr()['Survived'].sort_values(ascending = False).drop(['Survived']).plot(kind='bar',color = 'c')\n",
    "plt.xlabel('Features',fontsize=15)\n",
    "plt.ylabel('Survived',fontsize=15)\n",
    "plt.title('correlation',fontsize = 18)\n",
    "plt.show()"
   ]
  },
  {
   "cell_type": "markdown",
   "id": "88700cc4",
   "metadata": {},
   "source": [
    "The largest positive correlation between \"female\" and \"survived\" is evident, however the biggest negative correlation between \"male\" and \"survived\" is also apparent.\n",
    "\n",
    "Indicating that Pclass 1 passengers received first priority during rescue and evacuation, Pclass also has a strong negative association with the word \"survived.\"\n",
    "\n",
    "The fact that fare and \"Survived\" have a strong association suggests that people who paid greater fares received preferential treatment during rescue and evacuation.\n"
   ]
  },
  {
   "cell_type": "code",
   "execution_count": 59,
   "id": "282c0068",
   "metadata": {},
   "outputs": [],
   "source": [
    "X = TitanicData.drop(columns = ['Survived'])\n",
    "y = TitanicData['Survived']"
   ]
  },
  {
   "cell_type": "markdown",
   "id": "17610e57",
   "metadata": {},
   "source": [
    "# Interpreting Dependent Variable and Independent Variable Relationships"
   ]
  },
  {
   "cell_type": "code",
   "execution_count": 60,
   "id": "ec123bc2",
   "metadata": {},
   "outputs": [
    {
     "data": {
      "image/png": "[encoded data removed]",
      "text/plain": [
       "<Figure size 2000x2500 with 2 Axes>"
      ]
     },
     "metadata": {},
     "output_type": "display_data"
    }
   ],
   "source": [
    "plt.figure(figsize=(20,25),facecolor='white')\n",
    "plotnum=1\n",
    "y = TitanicData['Survived']\n",
    "X = TitanicData[['Age','Fare']]\n",
    "for col in X:\n",
    "    if plotnum<=23:\n",
    "        plt.subplot(5,5,plotnum)\n",
    "        sns.barplot(y,X[col])\n",
    "        plt.xlabel('Survived',fontsize=20)\n",
    "        plt.ylabel(col,fontsize=20)\n",
    "    plotnum+=1\n",
    "plt.tight_layout()"
   ]
  },
  {
   "cell_type": "markdown",
   "id": "97429f92",
   "metadata": {},
   "source": [
    "Found that the relationship between passenger age and survivability isn't very strong.\n",
    "\n",
    "Passengers who paid larger fare amounts seemed to have survived compared to those who paid lower amounts."
   ]
  },
  {
   "cell_type": "code",
   "execution_count": 61,
   "id": "253da3cb",
   "metadata": {},
   "outputs": [
    {
     "data": {
      "image/png": "[encoded data removed]",
      "text/plain": [
       "<Figure size 2000x2500 with 7 Axes>"
      ]
     },
     "metadata": {},
     "output_type": "display_data"
    }
   ],
   "source": [
    "#Columns of 'Survived' vs. Categorical/Discrete Data\n",
    "\n",
    "plt.figure(figsize=(20,25),facecolor='white')\n",
    "plotnum=1\n",
    "y = TitanicData['Survived']\n",
    "X = TitanicData.drop(columns=['Survived','Age','Fare'])\n",
    "for col in X:\n",
    "    if plotnum<=23:\n",
    "        plt.subplot(5,5,plotnum)\n",
    "        sns.barplot(y,X[col])\n",
    "        plt.xlabel('Survived',fontsize=20)\n",
    "        plt.ylabel(col,fontsize=20)\n",
    "    plotnum+=1\n",
    "plt.tight_layout()"
   ]
  },
  {
   "cell_type": "markdown",
   "id": "1889acf8",
   "metadata": {},
   "source": [
    "According to the graphs above, Pclass 1 and 2 passengers had the highest chances of surviving. Compared to men, women had a better probability of survival. Compared to passengers who boarded from Q and S, those who boarded from C had a better probability of surviving.\n",
    "\n",
    "'SibSP' and 'Parch' are combined to create the 'Family' column in order to better comprehend the relationship between survivors and passengers who were travelling with their family.\n"
   ]
  },
  {
   "cell_type": "code",
   "execution_count": 62,
   "id": "4ba1d0a1",
   "metadata": {},
   "outputs": [],
   "source": [
    "TitanicData['Families'] = TitanicData['Parch']+TitanicData['SibSp']"
   ]
  },
  {
   "cell_type": "code",
   "execution_count": 63,
   "id": "29f30f82",
   "metadata": {},
   "outputs": [
    {
     "data": {
      "text/plain": [
       "0      1\n",
       "1      1\n",
       "2      0\n",
       "3      1\n",
       "4      0\n",
       "      ..\n",
       "884    0\n",
       "885    0\n",
       "886    3\n",
       "887    0\n",
       "888    0\n",
       "Name: Families, Length: 889, dtype: int64"
      ]
     },
     "execution_count": 63,
     "metadata": {},
     "output_type": "execute_result"
    }
   ],
   "source": [
    "TitanicData['Families']"
   ]
  },
  {
   "cell_type": "code",
   "execution_count": 64,
   "id": "21ea8d66",
   "metadata": {},
   "outputs": [
    {
     "data": {
      "text/plain": [
       "<AxesSubplot:xlabel='Survived', ylabel='count'>"
      ]
     },
     "execution_count": 64,
     "metadata": {},
     "output_type": "execute_result"
    },
    {
     "data": {
      "image/png": "[encoded data removed]",
      "text/plain": [
       "<Figure size 640x480 with 1 Axes>"
      ]
     },
     "metadata": {},
     "output_type": "display_data"
    }
   ],
   "source": [
    "sns.countplot(y, hue =TitanicData['Families'])"
   ]
  },
  {
   "cell_type": "markdown",
   "id": "f697b2da",
   "metadata": {},
   "source": [
    "Non-Survivors and Survivors\n",
    "\n",
    "Smaller families, which make up the majority of passengers, have a better chance of surviving than large ones."
   ]
  },
  {
   "cell_type": "code",
   "execution_count": 65,
   "id": "f6295ca4",
   "metadata": {},
   "outputs": [],
   "source": [
    "#Removing \"SibSp\" and \"Parch\" columns\n",
    "TitanicData.drop(columns=['SibSp','Parch'],inplace=True )"
   ]
  },
  {
   "cell_type": "code",
   "execution_count": 66,
   "id": "7be9df99",
   "metadata": {},
   "outputs": [
    {
     "data": {
      "text/plain": [
       "<AxesSubplot:xlabel='Survived', ylabel='count'>"
      ]
     },
     "execution_count": 66,
     "metadata": {},
     "output_type": "execute_result"
    },
    {
     "data": {
      "image/png": "[encoded data removed]",
      "text/plain": [
       "<Figure size 640x480 with 1 Axes>"
      ]
     },
     "metadata": {},
     "output_type": "display_data"
    }
   ],
   "source": [
    "sns.countplot(y, hue =TitanicData['Sex'])"
   ]
  },
  {
   "cell_type": "markdown",
   "id": "08c6d367",
   "metadata": {},
   "source": [
    "Women were more likely than men to have survived."
   ]
  },
  {
   "cell_type": "code",
   "execution_count": 67,
   "id": "2d51cafe",
   "metadata": {},
   "outputs": [
    {
     "data": {
      "text/plain": [
       "<AxesSubplot:xlabel='Survived', ylabel='Age'>"
      ]
     },
     "execution_count": 67,
     "metadata": {},
     "output_type": "execute_result"
    },
    {
     "data": {
      "image/png": "[encoded data removed]",
      "text/plain": [
       "<Figure size 640x480 with 1 Axes>"
      ]
     },
     "metadata": {},
     "output_type": "display_data"
    }
   ],
   "source": [
    "sns.barplot(x =TitanicData['Survived'],y = TitanicData['Age'], hue = TitanicData['Sex'])"
   ]
  },
  {
   "cell_type": "markdown",
   "id": "efcb0524",
   "metadata": {},
   "source": [
    "The majority of male survivors were young, showing that little children received top attention during rescue and escape.\n",
    "\n",
    "The younger, physically fit males were fortunate to be able to save themselves, while the older guys were unfortunate\n"
   ]
  },
  {
   "cell_type": "code",
   "execution_count": 68,
   "id": "b13a7816",
   "metadata": {},
   "outputs": [
    {
     "data": {
      "text/html": [
       "<div>\n",
       "<style scoped>\n",
       "    .dataframe tbody tr th:only-of-type {\n",
       "        vertical-align: middle;\n",
       "    }\n",
       "\n",
       "    .dataframe tbody tr th {\n",
       "        vertical-align: top;\n",
       "    }\n",
       "\n",
       "    .dataframe thead th {\n",
       "        text-align: right;\n",
       "    }\n",
       "</style>\n",
       "<table border=\"1\" class=\"dataframe\">\n",
       "  <thead>\n",
       "    <tr style=\"text-align: right;\">\n",
       "      <th></th>\n",
       "      <th>Survived</th>\n",
       "      <th>Pclass</th>\n",
       "      <th>Sex</th>\n",
       "      <th>Age</th>\n",
       "      <th>Fare</th>\n",
       "      <th>C</th>\n",
       "      <th>Q</th>\n",
       "      <th>S</th>\n",
       "      <th>Families</th>\n",
       "    </tr>\n",
       "  </thead>\n",
       "  <tbody>\n",
       "    <tr>\n",
       "      <th>0</th>\n",
       "      <td>0</td>\n",
       "      <td>3</td>\n",
       "      <td>1.0</td>\n",
       "      <td>22.0</td>\n",
       "      <td>7.2500</td>\n",
       "      <td>0</td>\n",
       "      <td>0</td>\n",
       "      <td>1</td>\n",
       "      <td>1</td>\n",
       "    </tr>\n",
       "    <tr>\n",
       "      <th>1</th>\n",
       "      <td>1</td>\n",
       "      <td>1</td>\n",
       "      <td>0.0</td>\n",
       "      <td>38.0</td>\n",
       "      <td>71.2833</td>\n",
       "      <td>1</td>\n",
       "      <td>0</td>\n",
       "      <td>0</td>\n",
       "      <td>1</td>\n",
       "    </tr>\n",
       "    <tr>\n",
       "      <th>2</th>\n",
       "      <td>1</td>\n",
       "      <td>3</td>\n",
       "      <td>0.0</td>\n",
       "      <td>26.0</td>\n",
       "      <td>7.9250</td>\n",
       "      <td>0</td>\n",
       "      <td>0</td>\n",
       "      <td>1</td>\n",
       "      <td>0</td>\n",
       "    </tr>\n",
       "    <tr>\n",
       "      <th>3</th>\n",
       "      <td>1</td>\n",
       "      <td>1</td>\n",
       "      <td>0.0</td>\n",
       "      <td>35.0</td>\n",
       "      <td>53.1000</td>\n",
       "      <td>0</td>\n",
       "      <td>0</td>\n",
       "      <td>1</td>\n",
       "      <td>1</td>\n",
       "    </tr>\n",
       "    <tr>\n",
       "      <th>4</th>\n",
       "      <td>0</td>\n",
       "      <td>3</td>\n",
       "      <td>1.0</td>\n",
       "      <td>35.0</td>\n",
       "      <td>8.0500</td>\n",
       "      <td>0</td>\n",
       "      <td>0</td>\n",
       "      <td>1</td>\n",
       "      <td>0</td>\n",
       "    </tr>\n",
       "    <tr>\n",
       "      <th>...</th>\n",
       "      <td>...</td>\n",
       "      <td>...</td>\n",
       "      <td>...</td>\n",
       "      <td>...</td>\n",
       "      <td>...</td>\n",
       "      <td>...</td>\n",
       "      <td>...</td>\n",
       "      <td>...</td>\n",
       "      <td>...</td>\n",
       "    </tr>\n",
       "    <tr>\n",
       "      <th>884</th>\n",
       "      <td>0</td>\n",
       "      <td>2</td>\n",
       "      <td>1.0</td>\n",
       "      <td>27.0</td>\n",
       "      <td>13.0000</td>\n",
       "      <td>0</td>\n",
       "      <td>0</td>\n",
       "      <td>1</td>\n",
       "      <td>0</td>\n",
       "    </tr>\n",
       "    <tr>\n",
       "      <th>885</th>\n",
       "      <td>1</td>\n",
       "      <td>1</td>\n",
       "      <td>0.0</td>\n",
       "      <td>19.0</td>\n",
       "      <td>30.0000</td>\n",
       "      <td>0</td>\n",
       "      <td>0</td>\n",
       "      <td>1</td>\n",
       "      <td>0</td>\n",
       "    </tr>\n",
       "    <tr>\n",
       "      <th>886</th>\n",
       "      <td>0</td>\n",
       "      <td>3</td>\n",
       "      <td>0.0</td>\n",
       "      <td>32.0</td>\n",
       "      <td>23.4500</td>\n",
       "      <td>0</td>\n",
       "      <td>0</td>\n",
       "      <td>1</td>\n",
       "      <td>3</td>\n",
       "    </tr>\n",
       "    <tr>\n",
       "      <th>887</th>\n",
       "      <td>1</td>\n",
       "      <td>1</td>\n",
       "      <td>1.0</td>\n",
       "      <td>26.0</td>\n",
       "      <td>30.0000</td>\n",
       "      <td>1</td>\n",
       "      <td>0</td>\n",
       "      <td>0</td>\n",
       "      <td>0</td>\n",
       "    </tr>\n",
       "    <tr>\n",
       "      <th>888</th>\n",
       "      <td>0</td>\n",
       "      <td>3</td>\n",
       "      <td>1.0</td>\n",
       "      <td>32.0</td>\n",
       "      <td>7.7500</td>\n",
       "      <td>0</td>\n",
       "      <td>1</td>\n",
       "      <td>0</td>\n",
       "      <td>0</td>\n",
       "    </tr>\n",
       "  </tbody>\n",
       "</table>\n",
       "<p>889 rows × 9 columns</p>\n",
       "</div>"
      ],
      "text/plain": [
       "     Survived  Pclass  Sex   Age     Fare  C  Q  S  Families\n",
       "0           0       3  1.0  22.0   7.2500  0  0  1         1\n",
       "1           1       1  0.0  38.0  71.2833  1  0  0         1\n",
       "2           1       3  0.0  26.0   7.9250  0  0  1         0\n",
       "3           1       1  0.0  35.0  53.1000  0  0  1         1\n",
       "4           0       3  1.0  35.0   8.0500  0  0  1         0\n",
       "..        ...     ...  ...   ...      ... .. .. ..       ...\n",
       "884         0       2  1.0  27.0  13.0000  0  0  1         0\n",
       "885         1       1  0.0  19.0  30.0000  0  0  1         0\n",
       "886         0       3  0.0  32.0  23.4500  0  0  1         3\n",
       "887         1       1  1.0  26.0  30.0000  1  0  0         0\n",
       "888         0       3  1.0  32.0   7.7500  0  1  0         0\n",
       "\n",
       "[889 rows x 9 columns]"
      ]
     },
     "execution_count": 68,
     "metadata": {},
     "output_type": "execute_result"
    }
   ],
   "source": [
    "TitanicData"
   ]
  },
  {
   "cell_type": "markdown",
   "id": "d4b0289f",
   "metadata": {},
   "source": [
    "# Dealing with the Outliers"
   ]
  },
  {
   "cell_type": "code",
   "execution_count": 69,
   "id": "6e26f103",
   "metadata": {},
   "outputs": [],
   "source": [
    "X = TitanicData.drop(columns = ['Survived'])\n",
    "y = TitanicData['Survived']"
   ]
  },
  {
   "cell_type": "code",
   "execution_count": 70,
   "id": "2ae24e69",
   "metadata": {},
   "outputs": [
    {
     "data": {
      "image/png": "[encoded data removed]",
      "text/plain": [
       "<Figure size 2000x2500 with 2 Axes>"
      ]
     },
     "metadata": {},
     "output_type": "display_data"
    }
   ],
   "source": [
    "plt.figure(figsize=(20,25),facecolor='white')\n",
    "plotnum=1\n",
    "feat= ['Age','Fare']\n",
    "for col in X[feat]:\n",
    "    if plotnum<=11:\n",
    "        plt.subplot(4,4,plotnum)\n",
    "        sns.boxplot(X[col])\n",
    "        plt.xlabel(col,fontsize=20)\n",
    "    plotnum+=1\n",
    "plt.show()"
   ]
  },
  {
   "cell_type": "markdown",
   "id": "d9232720",
   "metadata": {},
   "source": [
    "# Utilising the Z-Score Method to Remove Outliers"
   ]
  },
  {
   "cell_type": "code",
   "execution_count": 71,
   "id": "5dd2d0f1",
   "metadata": {},
   "outputs": [],
   "source": [
    "df2 = X[feat].copy()"
   ]
  },
  {
   "cell_type": "code",
   "execution_count": 72,
   "id": "d9061a1d",
   "metadata": {},
   "outputs": [],
   "source": [
    "from scipy.stats import zscore\n",
    "zscor = zscore(df2)\n",
    "z_score_abs = np.abs(zscor)\n",
    "\n",
    "df3 = df2[(z_score_abs < 3).all(axis=1)] #taking 3 as threshold value"
   ]
  },
  {
   "cell_type": "code",
   "execution_count": 73,
   "id": "d4cc8693",
   "metadata": {},
   "outputs": [
    {
     "data": {
      "text/plain": [
       "(862, 2)"
      ]
     },
     "execution_count": 73,
     "metadata": {},
     "output_type": "execute_result"
    }
   ],
   "source": [
    "df3.shape"
   ]
  },
  {
   "cell_type": "code",
   "execution_count": 74,
   "id": "6cf5a1f6",
   "metadata": {},
   "outputs": [
    {
     "data": {
      "text/plain": [
       "(889, 2)"
      ]
     },
     "execution_count": 74,
     "metadata": {},
     "output_type": "execute_result"
    }
   ],
   "source": [
    "df2.shape"
   ]
  },
  {
   "cell_type": "code",
   "execution_count": 75,
   "id": "efed8976",
   "metadata": {},
   "outputs": [],
   "source": [
    "#% data loss check\n",
    "loss = (889-862)/889*100"
   ]
  },
  {
   "cell_type": "code",
   "execution_count": 76,
   "id": "6c89c01a",
   "metadata": {},
   "outputs": [
    {
     "data": {
      "text/plain": [
       "3.0371203599550056"
      ]
     },
     "execution_count": 76,
     "metadata": {},
     "output_type": "execute_result"
    }
   ],
   "source": [
    "loss"
   ]
  },
  {
   "cell_type": "markdown",
   "id": "38427312",
   "metadata": {},
   "source": [
    "Loss of data = 3.03%"
   ]
  },
  {
   "cell_type": "markdown",
   "id": "2e9bd86a",
   "metadata": {},
   "source": [
    "# Applying the IQR Method to Remove Outliers"
   ]
  },
  {
   "cell_type": "code",
   "execution_count": 77,
   "id": "183669da",
   "metadata": {},
   "outputs": [],
   "source": [
    "df =X[feat].copy()"
   ]
  },
  {
   "cell_type": "code",
   "execution_count": 78,
   "id": "1846525e",
   "metadata": {},
   "outputs": [],
   "source": [
    "indxdrop = np.array([])\n",
    "for colm in df:\n",
    "    q1 = df[colm].quantile(0.25)\n",
    "    q3 = df[colm].quantile(0.75)\n",
    "    iqr = q3-q1\n",
    "    upperval = q3 + (1.5*iqr)\n",
    "    lowerval = q1 - (1.5*iqr)\n",
    "    col = df[colm]\n",
    "    indx = col[(col > upperval) | (col < lowerval)].index\n",
    "    indxdrop = np.append(indxdrop, indx)\n",
    "#Utilising IQR, identify all the outlier indices in the columns, and add them to the indxdrop array. "
   ]
  },
  {
   "cell_type": "code",
   "execution_count": 79,
   "id": "f94e3ec0",
   "metadata": {},
   "outputs": [
    {
     "data": {
      "text/plain": [
       "array([  7.,  11.,  15.,  16.,  33.,  54.,  77.,  93.,  95., 115., 118.,\n",
       "       151., 163., 169., 171., 173., 182., 194., 204., 231., 251., 267.,\n",
       "       274., 279., 296., 304., 325., 339., 365., 380., 385., 437., 455.,\n",
       "       466., 468., 478., 482., 486., 491., 492., 529., 544., 554., 569.,\n",
       "       586., 624., 625., 629., 641., 643., 646., 658., 671., 683., 693.,\n",
       "       744., 754., 771., 787., 802., 823., 826., 829., 849., 877.,   1.,\n",
       "        27.,  31.,  34.,  52.,  61.,  71.,  87., 101., 117., 119., 123.,\n",
       "       138., 150., 158., 179., 194., 200., 214., 217., 223., 229., 244.,\n",
       "       255., 256., 257., 261., 267., 268., 274., 289., 290., 296., 298.,\n",
       "       304., 305., 306., 309., 310., 317., 318., 323., 324., 331., 333.,\n",
       "       335., 336., 340., 365., 368., 372., 374., 376., 379., 384., 389.,\n",
       "       392., 411., 434., 437., 444., 452., 483., 485., 495., 497., 503.,\n",
       "       504., 519., 526., 536., 539., 543., 549., 556., 557., 580., 584.,\n",
       "       586., 590., 608., 626., 640., 644., 654., 658., 659., 664., 678.,\n",
       "       680., 688., 697., 699., 707., 715., 729., 736., 740., 741., 744.,\n",
       "       758., 762., 764., 778., 788., 791., 801., 819., 833., 844., 847.,\n",
       "       854., 861., 877.])"
      ]
     },
     "execution_count": 79,
     "metadata": {},
     "output_type": "execute_result"
    }
   ],
   "source": [
    "indxdrop "
   ]
  },
  {
   "cell_type": "code",
   "execution_count": 80,
   "id": "7fb3a5b5",
   "metadata": {},
   "outputs": [],
   "source": [
    "df = df.drop(indxdrop)"
   ]
  },
  {
   "cell_type": "code",
   "execution_count": 81,
   "id": "deba7898",
   "metadata": {},
   "outputs": [
    {
     "data": {
      "text/plain": [
       "(721, 2)"
      ]
     },
     "execution_count": 81,
     "metadata": {},
     "output_type": "execute_result"
    }
   ],
   "source": [
    "df.shape"
   ]
  },
  {
   "cell_type": "code",
   "execution_count": 82,
   "id": "f2d5f05e",
   "metadata": {},
   "outputs": [
    {
     "data": {
      "text/plain": [
       "18.89763779527559"
      ]
     },
     "execution_count": 82,
     "metadata": {},
     "output_type": "execute_result"
    }
   ],
   "source": [
    "loss=(889-721)/889 * 100\n",
    "loss"
   ]
  },
  {
   "cell_type": "markdown",
   "id": "9bceb721",
   "metadata": {},
   "source": [
    "Data loss of 18.89% is above the allowed limit."
   ]
  },
  {
   "cell_type": "markdown",
   "id": "f53bef52",
   "metadata": {},
   "source": [
    "# Reducing outliers with the Z-score approach"
   ]
  },
  {
   "cell_type": "code",
   "execution_count": 83,
   "id": "24cbcd4f",
   "metadata": {},
   "outputs": [],
   "source": [
    "dropindx = X.index.difference(df3.index)"
   ]
  },
  {
   "cell_type": "code",
   "execution_count": 84,
   "id": "81571b68",
   "metadata": {},
   "outputs": [
    {
     "data": {
      "text/plain": [
       "Int64Index([ 27,  87,  95, 115, 117, 257, 298, 310, 340, 376, 379, 437, 492,\n",
       "            526, 556, 629, 671, 678, 688, 699, 715, 729, 736, 741, 744, 778,\n",
       "            849],\n",
       "           dtype='int64')"
      ]
     },
     "execution_count": 84,
     "metadata": {},
     "output_type": "execute_result"
    }
   ],
   "source": [
    "dropindx"
   ]
  },
  {
   "cell_type": "code",
   "execution_count": 85,
   "id": "f787395f",
   "metadata": {},
   "outputs": [],
   "source": [
    "TitanicData.drop(dropindx,inplace = True) #removing the anomalies from original columns Dataframe"
   ]
  },
  {
   "cell_type": "code",
   "execution_count": 86,
   "id": "964fd7c6",
   "metadata": {},
   "outputs": [],
   "source": [
    "X = TitanicData.drop(columns = ['Survived'])\n",
    "y = TitanicData['Survived']"
   ]
  },
  {
   "cell_type": "code",
   "execution_count": 87,
   "id": "d0800bb4",
   "metadata": {},
   "outputs": [
    {
     "data": {
      "text/plain": [
       "Pclass      0\n",
       "Sex         0\n",
       "Age         0\n",
       "Fare        0\n",
       "C           0\n",
       "Q           0\n",
       "S           0\n",
       "Families    0\n",
       "dtype: int64"
      ]
     },
     "execution_count": 87,
     "metadata": {},
     "output_type": "execute_result"
    }
   ],
   "source": [
    "X.isnull().sum()"
   ]
  },
  {
   "cell_type": "code",
   "execution_count": 88,
   "id": "c2f130f9",
   "metadata": {},
   "outputs": [
    {
     "data": {
      "image/png": "[encoded data removed]",
      "text/plain": [
       "<Figure size 2000x2500 with 2 Axes>"
      ]
     },
     "metadata": {},
     "output_type": "display_data"
    }
   ],
   "source": [
    "plt.figure(figsize=(20,25),facecolor='white')\n",
    "plotnum=1\n",
    "feat= ['Age','Fare']\n",
    "for col in X[feat]:\n",
    "    if plotnum<=11:\n",
    "        plt.subplot(4,4,plotnum)\n",
    "        sns.boxplot(X[col])\n",
    "        plt.xlabel(col,fontsize=20)\n",
    "    plotnum+=1\n",
    "plt.show()"
   ]
  },
  {
   "cell_type": "markdown",
   "id": "c4b6dd44",
   "metadata": {},
   "source": [
    "# Making Data Distribution Normalised"
   ]
  },
  {
   "cell_type": "code",
   "execution_count": 89,
   "id": "89273529",
   "metadata": {},
   "outputs": [
    {
     "data": {
      "text/plain": [
       "Age     0.238238\n",
       "Fare    2.279424\n",
       "dtype: float64"
      ]
     },
     "execution_count": 89,
     "metadata": {},
     "output_type": "execute_result"
    }
   ],
   "source": [
    "X[feat].skew()"
   ]
  },
  {
   "cell_type": "code",
   "execution_count": 90,
   "id": "7333aa7a",
   "metadata": {},
   "outputs": [
    {
     "data": {
      "text/plain": [
       "Age      0\n",
       "Fare    15\n",
       "dtype: int64"
      ]
     },
     "execution_count": 90,
     "metadata": {},
     "output_type": "execute_result"
    }
   ],
   "source": [
    "(X[feat]==0).sum()"
   ]
  },
  {
   "cell_type": "markdown",
   "id": "4d784550",
   "metadata": {},
   "source": [
    "The mean data will not be utilised to fill in the missing numbers because there are outliers present."
   ]
  },
  {
   "cell_type": "code",
   "execution_count": 91,
   "id": "76aa8cc3",
   "metadata": {},
   "outputs": [],
   "source": [
    "# Utilising the KNN Imputation technique to fill in the gaps in the data.\n",
    "imp = KNNImputer(n_neighbors=2)"
   ]
  },
  {
   "cell_type": "code",
   "execution_count": 92,
   "id": "e82e10bf",
   "metadata": {},
   "outputs": [],
   "source": [
    "X_filled = X.copy()"
   ]
  },
  {
   "cell_type": "code",
   "execution_count": 93,
   "id": "9200bd68",
   "metadata": {},
   "outputs": [],
   "source": [
    "X_filled = imp.fit_transform(X_filled[['Pclass','Fare']])"
   ]
  },
  {
   "cell_type": "code",
   "execution_count": 94,
   "id": "d8304897",
   "metadata": {},
   "outputs": [
    {
     "data": {
      "text/plain": [
       "array([[ 3.    ,  7.25  ],\n",
       "       [ 1.    , 71.2833],\n",
       "       [ 3.    ,  7.925 ],\n",
       "       ...,\n",
       "       [ 3.    , 23.45  ],\n",
       "       [ 1.    , 30.    ],\n",
       "       [ 3.    ,  7.75  ]])"
      ]
     },
     "execution_count": 94,
     "metadata": {},
     "output_type": "execute_result"
    }
   ],
   "source": [
    "X_filled"
   ]
  },
  {
   "cell_type": "code",
   "execution_count": 95,
   "id": "e5642f01",
   "metadata": {},
   "outputs": [
    {
     "data": {
      "text/plain": [
       "numpy.ndarray"
      ]
     },
     "execution_count": 95,
     "metadata": {},
     "output_type": "execute_result"
    }
   ],
   "source": [
    "type(X_filled)"
   ]
  },
  {
   "cell_type": "code",
   "execution_count": 96,
   "id": "40b7804f",
   "metadata": {},
   "outputs": [],
   "source": [
    "X_filled = pd.DataFrame(X_filled, columns=['Pclass','Fare']) #to convert numpy array back into dataframe"
   ]
  },
  {
   "cell_type": "code",
   "execution_count": 97,
   "id": "f444dec4",
   "metadata": {},
   "outputs": [],
   "source": [
    "X_filled.index = X.index"
   ]
  },
  {
   "cell_type": "code",
   "execution_count": 98,
   "id": "79debb81",
   "metadata": {},
   "outputs": [],
   "source": [
    "X[['Pclass','Fare']] = X_filled[['Pclass','Fare']]"
   ]
  },
  {
   "cell_type": "code",
   "execution_count": 99,
   "id": "2677d789",
   "metadata": {},
   "outputs": [
    {
     "data": {
      "text/plain": [
       "0"
      ]
     },
     "execution_count": 99,
     "metadata": {},
     "output_type": "execute_result"
    }
   ],
   "source": [
    "X['Fare'].isnull().sum()"
   ]
  },
  {
   "cell_type": "markdown",
   "id": "282a06b7",
   "metadata": {},
   "source": [
    "'Fare' column contains all necessary values."
   ]
  },
  {
   "cell_type": "code",
   "execution_count": 100,
   "id": "c7722770",
   "metadata": {},
   "outputs": [
    {
     "data": {
      "text/plain": [
       "Pclass     -0.715372\n",
       "Sex        -0.639189\n",
       "Age         0.238238\n",
       "Fare        2.279424\n",
       "C           1.680697\n",
       "Q           2.910027\n",
       "S          -1.056235\n",
       "Families    2.802387\n",
       "dtype: float64"
      ]
     },
     "execution_count": 100,
     "metadata": {},
     "output_type": "execute_result"
    }
   ],
   "source": [
    "X.skew()"
   ]
  },
  {
   "cell_type": "markdown",
   "id": "d1e74154",
   "metadata": {},
   "source": [
    "# Using PowerTransformer, significantly reducing skewness\n"
   ]
  },
  {
   "cell_type": "code",
   "execution_count": 101,
   "id": "d9862e68",
   "metadata": {},
   "outputs": [],
   "source": [
    "from sklearn.preprocessing import PowerTransformer"
   ]
  },
  {
   "cell_type": "code",
   "execution_count": 102,
   "id": "7bddf37b",
   "metadata": {},
   "outputs": [
    {
     "data": {
      "text/plain": [
       "Fare       -0.009414\n",
       "Families    0.546482\n",
       "dtype: float64"
      ]
     },
     "execution_count": 102,
     "metadata": {},
     "output_type": "execute_result"
    }
   ],
   "source": [
    "powtrans= PowerTransformer(method='yeo-johnson', standardize=True)\n",
    "df4 = X[['Fare','Families']]\n",
    "transformed= powtrans.fit_transform(df4)\n",
    "transformed = pd.DataFrame(transformed, columns=df4.columns) #to change a numpy array back into a dataframe\n",
    "transformed.skew()"
   ]
  },
  {
   "cell_type": "code",
   "execution_count": 103,
   "id": "98b30309",
   "metadata": {},
   "outputs": [
    {
     "data": {
      "text/plain": [
       "Pclass     -0.715372\n",
       "Sex        -0.639189\n",
       "Age         0.238238\n",
       "Fare       -0.009414\n",
       "C           1.680697\n",
       "Q           2.910027\n",
       "S          -1.056235\n",
       "Families    0.546482\n",
       "dtype: float64"
      ]
     },
     "execution_count": 103,
     "metadata": {},
     "output_type": "execute_result"
    }
   ],
   "source": [
    "transformed.index = X.index\n",
    "X[['Fare','Families']] = transformed[['Fare','Families']]\n",
    "X.skew()"
   ]
  },
  {
   "cell_type": "code",
   "execution_count": 104,
   "id": "932c451e",
   "metadata": {},
   "outputs": [
    {
     "data": {
      "text/plain": [
       "Pclass      0\n",
       "Sex         0\n",
       "Age         0\n",
       "Fare        0\n",
       "C           0\n",
       "Q           0\n",
       "S           0\n",
       "Families    0\n",
       "dtype: int64"
      ]
     },
     "execution_count": 104,
     "metadata": {},
     "output_type": "execute_result"
    }
   ],
   "source": [
    "X.isnull().sum()"
   ]
  },
  {
   "cell_type": "code",
   "execution_count": 105,
   "id": "4ff54616",
   "metadata": {},
   "outputs": [
    {
     "data": {
      "image/png": "[encoded data removed]",
      "text/plain": [
       "<Figure size 2000x2500 with 8 Axes>"
      ]
     },
     "metadata": {},
     "output_type": "display_data"
    }
   ],
   "source": [
    "plt.figure(figsize=(20,25),facecolor='white')\n",
    "plotnum=1\n",
    "for col in X:\n",
    "    if plotnum<=10:\n",
    "        plt.subplot(4,4,plotnum)\n",
    "        sns.distplot(X[col])\n",
    "        plt.xlabel(col,fontsize=20)\n",
    "    plotnum+=1\n",
    "plt.show()"
   ]
  },
  {
   "cell_type": "markdown",
   "id": "80dd8348",
   "metadata": {},
   "source": [
    "# Feature Choice"
   ]
  },
  {
   "cell_type": "code",
   "execution_count": 106,
   "id": "c2f66c6f",
   "metadata": {},
   "outputs": [
    {
     "data": {
      "text/plain": [
       "array([[ 0.7994893 ,  0.73062154, -0.58138018, ..., -0.31095355,\n",
       "         0.60326118,  0.90850781],\n",
       "       [-1.64868042, -1.36869768,  0.702247  , ..., -0.31095355,\n",
       "        -1.65765681,  0.90850781],\n",
       "       [ 0.7994893 , -1.36869768, -0.26047338, ..., -0.31095355,\n",
       "         0.60326118, -0.79210461],\n",
       "       ...,\n",
       "       [ 0.7994893 , -1.36869768,  0.22088681, ..., -0.31095355,\n",
       "         0.60326118,  1.52047922],\n",
       "       [-1.64868042,  0.73062154, -0.26047338, ..., -0.31095355,\n",
       "        -1.65765681, -0.79210461],\n",
       "       [ 0.7994893 ,  0.73062154,  0.22088681, ...,  3.21591437,\n",
       "        -1.65765681, -0.79210461]])"
      ]
     },
     "execution_count": 106,
     "metadata": {},
     "output_type": "execute_result"
    }
   ],
   "source": [
    "from sklearn.preprocessing import StandardScaler\n",
    "scaler= StandardScaler()\n",
    "scaled_X = scaler.fit_transform(X)\n",
    "scaled_X "
   ]
  },
  {
   "cell_type": "markdown",
   "id": "6d795824",
   "metadata": {},
   "source": [
    "# Making use of the Variance Inflation Factor to Examine Multicollinearity"
   ]
  },
  {
   "cell_type": "code",
   "execution_count": 107,
   "id": "621673ad",
   "metadata": {},
   "outputs": [],
   "source": [
    "from statsmodels.stats.outliers_influence import variance_inflation_factor"
   ]
  },
  {
   "cell_type": "code",
   "execution_count": 108,
   "id": "9202412c",
   "metadata": {},
   "outputs": [
    {
     "data": {
      "text/html": [
       "<div>\n",
       "<style scoped>\n",
       "    .dataframe tbody tr th:only-of-type {\n",
       "        vertical-align: middle;\n",
       "    }\n",
       "\n",
       "    .dataframe tbody tr th {\n",
       "        vertical-align: top;\n",
       "    }\n",
       "\n",
       "    .dataframe thead th {\n",
       "        text-align: right;\n",
       "    }\n",
       "</style>\n",
       "<table border=\"1\" class=\"dataframe\">\n",
       "  <thead>\n",
       "    <tr style=\"text-align: right;\">\n",
       "      <th></th>\n",
       "      <th>Features</th>\n",
       "      <th>vif</th>\n",
       "    </tr>\n",
       "  </thead>\n",
       "  <tbody>\n",
       "    <tr>\n",
       "      <th>0</th>\n",
       "      <td>Pclass</td>\n",
       "      <td>2.090198</td>\n",
       "    </tr>\n",
       "    <tr>\n",
       "      <th>1</th>\n",
       "      <td>Sex</td>\n",
       "      <td>1.143503</td>\n",
       "    </tr>\n",
       "    <tr>\n",
       "      <th>2</th>\n",
       "      <td>Age</td>\n",
       "      <td>1.205194</td>\n",
       "    </tr>\n",
       "    <tr>\n",
       "      <th>3</th>\n",
       "      <td>Fare</td>\n",
       "      <td>2.514240</td>\n",
       "    </tr>\n",
       "    <tr>\n",
       "      <th>4</th>\n",
       "      <td>C</td>\n",
       "      <td>inf</td>\n",
       "    </tr>\n",
       "    <tr>\n",
       "      <th>5</th>\n",
       "      <td>Q</td>\n",
       "      <td>inf</td>\n",
       "    </tr>\n",
       "    <tr>\n",
       "      <th>6</th>\n",
       "      <td>S</td>\n",
       "      <td>inf</td>\n",
       "    </tr>\n",
       "    <tr>\n",
       "      <th>7</th>\n",
       "      <td>Families</td>\n",
       "      <td>1.656581</td>\n",
       "    </tr>\n",
       "  </tbody>\n",
       "</table>\n",
       "</div>"
      ],
      "text/plain": [
       "   Features       vif\n",
       "0    Pclass  2.090198\n",
       "1       Sex  1.143503\n",
       "2       Age  1.205194\n",
       "3      Fare  2.514240\n",
       "4         C       inf\n",
       "5         Q       inf\n",
       "6         S       inf\n",
       "7  Families  1.656581"
      ]
     },
     "execution_count": 108,
     "metadata": {},
     "output_type": "execute_result"
    }
   ],
   "source": [
    "vif = pd.DataFrame()\n",
    "vif[\"Features\"] = X.columns\n",
    "vif['vif'] = [variance_inflation_factor(scaled_X,i) for i in range(scaled_X.shape[1])]\n",
    "vif"
   ]
  },
  {
   "cell_type": "markdown",
   "id": "21978883",
   "metadata": {},
   "source": [
    "# Choosing Kbest Features"
   ]
  },
  {
   "cell_type": "code",
   "execution_count": 109,
   "id": "c053c2c7",
   "metadata": {},
   "outputs": [
    {
     "name": "stdout",
     "output_type": "stream",
     "text": [
      "    Feature       Score\n",
      "1       Sex  339.693591\n",
      "0    Pclass  105.325560\n",
      "3      Fare   97.228558\n",
      "7  Families   28.326530\n",
      "4         C   23.201391\n",
      "6         S   19.167697\n",
      "2       Age    2.575024\n",
      "5         Q    0.111014\n"
     ]
    }
   ],
   "source": [
    "from sklearn.feature_selection import SelectKBest, f_classif\n",
    "bestfeat = SelectKBest(score_func = f_classif, k = 8)\n",
    "fit = bestfeat.fit(X,y)\n",
    "dfscores = pd.DataFrame(fit.scores_)\n",
    "dfcolumns = pd.DataFrame(X.columns)\n",
    "fit = bestfeat.fit(X,y)\n",
    "dfscores = pd.DataFrame(fit.scores_)\n",
    "dfcolumns = pd.DataFrame(X.columns)\n",
    "dfcolumns.head()\n",
    "featureScores = pd.concat([dfcolumns,dfscores],axis = 1)\n",
    "featureScores.columns = ['Feature', 'Score']\n",
    "print(featureScores.nlargest(11,'Score'))"
   ]
  },
  {
   "cell_type": "markdown",
   "id": "a7f618bd",
   "metadata": {},
   "source": [
    "# Classification Model Building"
   ]
  },
  {
   "cell_type": "code",
   "execution_count": 110,
   "id": "44f5672a",
   "metadata": {},
   "outputs": [],
   "source": [
    "from sklearn.model_selection import train_test_split"
   ]
  },
  {
   "cell_type": "code",
   "execution_count": 111,
   "id": "92386a8c",
   "metadata": {},
   "outputs": [
    {
     "name": "stdout",
     "output_type": "stream",
     "text": [
      "Best Accuracy is: 0.8544776119402985 on random_state: 16\n"
     ]
    }
   ],
   "source": [
    "#the best random state to choose from\n",
    "from sklearn.ensemble import RandomForestClassifier\n",
    "from sklearn.metrics import accuracy_score\n",
    "maxAcc = 0\n",
    "maxRS=0\n",
    "for i in range(1,100):\n",
    "    x_train,x_test,y_train,y_test = train_test_split(scaled_X,y,test_size = .31, random_state = i,stratify = y)\n",
    "    modRF =  RandomForestClassifier()\n",
    "    modRF.fit(x_train,y_train)\n",
    "    pred = modRF.predict(x_test)\n",
    "    acc  = accuracy_score(y_test,pred)\n",
    "    if acc>maxAcc:\n",
    "        maxAcc=acc\n",
    "        maxRS=i\n",
    "print(f\"Best Accuracy is: {maxAcc} on random_state: {maxRS}\")"
   ]
  },
  {
   "cell_type": "code",
   "execution_count": 112,
   "id": "07bdd698",
   "metadata": {},
   "outputs": [],
   "source": [
    "x_train,x_test,y_train,y_test = train_test_split(scaled_X,y,test_size = .31, stratify = y,random_state = 16) #since "
   ]
  },
  {
   "cell_type": "code",
   "execution_count": 113,
   "id": "30716ac8",
   "metadata": {},
   "outputs": [],
   "source": [
    "from sklearn.model_selection import train_test_split\n",
    "from sklearn.metrics import accuracy_score, confusion_matrix, roc_curve, roc_auc_score\n",
    "from sklearn.metrics import classification_report\n",
    "from sklearn.metrics import plot_roc_curve"
   ]
  },
  {
   "cell_type": "code",
   "execution_count": 114,
   "id": "f6d0db06",
   "metadata": {},
   "outputs": [],
   "source": [
    "from sklearn.linear_model import LogisticRegression\n",
    "from sklearn.tree import DecisionTreeClassifier\n",
    "from sklearn.svm import SVC\n",
    "from sklearn.neighbors import KNeighborsClassifier"
   ]
  },
  {
   "cell_type": "code",
   "execution_count": 115,
   "id": "ad1bfe8a",
   "metadata": {},
   "outputs": [],
   "source": [
    "DTC = DecisionTreeClassifier()\n",
    "RFC = RandomForestClassifier()\n",
    "LOGR= LogisticRegression(solver='liblinear')\n",
    "SV =  SVC()\n",
    "KNN = KNeighborsClassifier()"
   ]
  },
  {
   "cell_type": "code",
   "execution_count": 116,
   "id": "a82cbe3f",
   "metadata": {},
   "outputs": [
    {
     "data": {
      "text/plain": [
       "KNeighborsClassifier()"
      ]
     },
     "execution_count": 116,
     "metadata": {},
     "output_type": "execute_result"
    }
   ],
   "source": [
    "#Training the Models\n",
    "DTC.fit(x_train,y_train)\n",
    "RFC.fit(x_train,y_train)\n",
    "SV.fit(x_train,y_train)\n",
    "LOGR.fit(x_train,y_train)\n",
    "KNN.fit(x_train,y_train)"
   ]
  },
  {
   "cell_type": "markdown",
   "id": "8790b1df",
   "metadata": {},
   "source": [
    "# Accuracy of the Decision Tree Classifier Model"
   ]
  },
  {
   "cell_type": "code",
   "execution_count": 117,
   "id": "f9925b22",
   "metadata": {},
   "outputs": [
    {
     "data": {
      "text/plain": [
       "array([[141,  26],\n",
       "       [ 21,  80]], dtype=int64)"
      ]
     },
     "execution_count": 117,
     "metadata": {},
     "output_type": "execute_result"
    }
   ],
   "source": [
    "DTCpred = DTC.predict(x_test)\n",
    "accu = classification_report(y_test,DTCpred)\n",
    "conf_matrx = confusion_matrix(y_test,DTCpred)\n",
    "conf_matrx"
   ]
  },
  {
   "cell_type": "code",
   "execution_count": 118,
   "id": "5e8e2886",
   "metadata": {},
   "outputs": [
    {
     "name": "stdout",
     "output_type": "stream",
     "text": [
      "              precision    recall  f1-score   support\n",
      "\n",
      "           0       0.87      0.84      0.86       167\n",
      "           1       0.75      0.79      0.77       101\n",
      "\n",
      "    accuracy                           0.82       268\n",
      "   macro avg       0.81      0.82      0.82       268\n",
      "weighted avg       0.83      0.82      0.83       268\n",
      "\n"
     ]
    }
   ],
   "source": [
    "print(accu)"
   ]
  },
  {
   "cell_type": "markdown",
   "id": "d79d38f6",
   "metadata": {},
   "source": [
    "# Accuracy of Logistic Regression Models"
   ]
  },
  {
   "cell_type": "code",
   "execution_count": 119,
   "id": "d92eb539",
   "metadata": {},
   "outputs": [
    {
     "data": {
      "text/plain": [
       "array([[147,  20],\n",
       "       [ 23,  78]], dtype=int64)"
      ]
     },
     "execution_count": 119,
     "metadata": {},
     "output_type": "execute_result"
    }
   ],
   "source": [
    "LOGRpred = LOGR.predict(x_test)\n",
    "accu = classification_report(y_test,LOGRpred)\n",
    "conf_matrx = confusion_matrix(y_test,LOGRpred)\n",
    "conf_matrx"
   ]
  },
  {
   "cell_type": "code",
   "execution_count": 120,
   "id": "5adbfc21",
   "metadata": {},
   "outputs": [
    {
     "name": "stdout",
     "output_type": "stream",
     "text": [
      "              precision    recall  f1-score   support\n",
      "\n",
      "           0       0.86      0.88      0.87       167\n",
      "           1       0.80      0.77      0.78       101\n",
      "\n",
      "    accuracy                           0.84       268\n",
      "   macro avg       0.83      0.83      0.83       268\n",
      "weighted avg       0.84      0.84      0.84       268\n",
      "\n"
     ]
    }
   ],
   "source": [
    "print(accu)"
   ]
  },
  {
   "cell_type": "markdown",
   "id": "e2ae31dc",
   "metadata": {},
   "source": [
    "# Accuracy of the Random Forest Classifier Model"
   ]
  },
  {
   "cell_type": "code",
   "execution_count": 121,
   "id": "bbf34ef3",
   "metadata": {},
   "outputs": [
    {
     "data": {
      "text/plain": [
       "array([[147,  20],\n",
       "       [ 21,  80]], dtype=int64)"
      ]
     },
     "execution_count": 121,
     "metadata": {},
     "output_type": "execute_result"
    }
   ],
   "source": [
    "RFCpred = RFC.predict(x_test)\n",
    "accu = classification_report(y_test,RFCpred)\n",
    "conf_matrx = confusion_matrix(y_test,RFCpred)\n",
    "conf_matrx"
   ]
  },
  {
   "cell_type": "code",
   "execution_count": 122,
   "id": "27096c0e",
   "metadata": {},
   "outputs": [
    {
     "name": "stdout",
     "output_type": "stream",
     "text": [
      "              precision    recall  f1-score   support\n",
      "\n",
      "           0       0.88      0.88      0.88       167\n",
      "           1       0.80      0.79      0.80       101\n",
      "\n",
      "    accuracy                           0.85       268\n",
      "   macro avg       0.84      0.84      0.84       268\n",
      "weighted avg       0.85      0.85      0.85       268\n",
      "\n"
     ]
    }
   ],
   "source": [
    "print(accu)"
   ]
  },
  {
   "cell_type": "markdown",
   "id": "146ba434",
   "metadata": {},
   "source": [
    "# Accuracy of SV Classifier Model"
   ]
  },
  {
   "cell_type": "code",
   "execution_count": 123,
   "id": "9c3012d7",
   "metadata": {},
   "outputs": [
    {
     "data": {
      "text/plain": [
       "array([[161,   6],\n",
       "       [ 34,  67]], dtype=int64)"
      ]
     },
     "execution_count": 123,
     "metadata": {},
     "output_type": "execute_result"
    }
   ],
   "source": [
    "SVpred = SV.predict(x_test)\n",
    "accu = classification_report(y_test,SVpred)\n",
    "conf_matrx = confusion_matrix(y_test,SVpred)\n",
    "conf_matrx"
   ]
  },
  {
   "cell_type": "code",
   "execution_count": 124,
   "id": "6a2035ba",
   "metadata": {},
   "outputs": [
    {
     "name": "stdout",
     "output_type": "stream",
     "text": [
      "              precision    recall  f1-score   support\n",
      "\n",
      "           0       0.83      0.96      0.89       167\n",
      "           1       0.92      0.66      0.77       101\n",
      "\n",
      "    accuracy                           0.85       268\n",
      "   macro avg       0.87      0.81      0.83       268\n",
      "weighted avg       0.86      0.85      0.84       268\n",
      "\n"
     ]
    }
   ],
   "source": [
    "print(accu)"
   ]
  },
  {
   "cell_type": "markdown",
   "id": "b9650be3",
   "metadata": {},
   "source": [
    "# Accuracy of the K Nearest Neighbours Classifier Model\n"
   ]
  },
  {
   "cell_type": "code",
   "execution_count": 125,
   "id": "3f8a8179",
   "metadata": {},
   "outputs": [
    {
     "data": {
      "text/plain": [
       "array([[154,  13],\n",
       "       [ 30,  71]], dtype=int64)"
      ]
     },
     "execution_count": 125,
     "metadata": {},
     "output_type": "execute_result"
    }
   ],
   "source": [
    "KNNpred = KNN.predict(x_test)\n",
    "accu = classification_report(y_test,KNNpred)\n",
    "conf_matrx = confusion_matrix(y_test,KNNpred)\n",
    "conf_matrx"
   ]
  },
  {
   "cell_type": "code",
   "execution_count": 126,
   "id": "ced01a16",
   "metadata": {},
   "outputs": [
    {
     "name": "stdout",
     "output_type": "stream",
     "text": [
      "              precision    recall  f1-score   support\n",
      "\n",
      "           0       0.84      0.92      0.88       167\n",
      "           1       0.85      0.70      0.77       101\n",
      "\n",
      "    accuracy                           0.84       268\n",
      "   macro avg       0.84      0.81      0.82       268\n",
      "weighted avg       0.84      0.84      0.84       268\n",
      "\n"
     ]
    }
   ],
   "source": [
    "print(accu)"
   ]
  },
  {
   "cell_type": "markdown",
   "id": "62ff94f0",
   "metadata": {},
   "source": [
    "# Cross-validation of a model"
   ]
  },
  {
   "cell_type": "code",
   "execution_count": 127,
   "id": "1eaccf6f",
   "metadata": {},
   "outputs": [],
   "source": [
    "from sklearn.model_selection import cross_val_score as cvs"
   ]
  },
  {
   "cell_type": "code",
   "execution_count": 128,
   "id": "8ae8eb08",
   "metadata": {},
   "outputs": [
    {
     "name": "stdout",
     "output_type": "stream",
     "text": [
      "0.7772886140610298\n"
     ]
    }
   ],
   "source": [
    " # Classifier using Decision Trees\n",
    "\n",
    "print(cvs(DTC,scaled_X,y,cv=5).mean())  "
   ]
  },
  {
   "cell_type": "code",
   "execution_count": 129,
   "id": "c3b12240",
   "metadata": {},
   "outputs": [
    {
     "name": "stdout",
     "output_type": "stream",
     "text": [
      "0.7888560290361608\n"
     ]
    }
   ],
   "source": [
    "#Logistic Regression\n",
    "print(cvs(LOGR,scaled_X,y,cv=5).mean()) "
   ]
  },
  {
   "cell_type": "code",
   "execution_count": 130,
   "id": "46f69ef8",
   "metadata": {},
   "outputs": [
    {
     "name": "stdout",
     "output_type": "stream",
     "text": [
      "0.8051619841376528\n"
     ]
    }
   ],
   "source": [
    "#Classifier with Random Forests\n",
    "print(cvs(RFC,scaled_X,y,cv=5).mean())"
   ]
  },
  {
   "cell_type": "code",
   "execution_count": 131,
   "id": "50c7c6ce",
   "metadata": {},
   "outputs": [
    {
     "name": "stdout",
     "output_type": "stream",
     "text": [
      "0.8155464444145718\n"
     ]
    }
   ],
   "source": [
    "#Classifier SV\n",
    "print(cvs(SV,scaled_X,y,cv=5).mean())"
   ]
  },
  {
   "cell_type": "code",
   "execution_count": 132,
   "id": "ffff7f50",
   "metadata": {},
   "outputs": [
    {
     "name": "stdout",
     "output_type": "stream",
     "text": [
      "0.8121857776582875\n"
     ]
    }
   ],
   "source": [
    "#Classifier for K Nearest Neighbours\n",
    "print(cvs(KNN,scaled_X,y,cv=5).mean())"
   ]
  },
  {
   "cell_type": "markdown",
   "id": "170e8467",
   "metadata": {},
   "source": [
    "# ROC AUC Results"
   ]
  },
  {
   "cell_type": "code",
   "execution_count": 133,
   "id": "200864ae",
   "metadata": {},
   "outputs": [
    {
     "data": {
      "text/plain": [
       "0.8181952925831505"
      ]
     },
     "execution_count": 133,
     "metadata": {},
     "output_type": "execute_result"
    }
   ],
   "source": [
    "#Classifier using Decision Trees\n",
    "roc_auc_score(y_test,DTCpred)"
   ]
  },
  {
   "cell_type": "code",
   "execution_count": 134,
   "id": "06ea0ee4",
   "metadata": {},
   "outputs": [
    {
     "data": {
      "text/plain": [
       "0.826258374340428"
      ]
     },
     "execution_count": 134,
     "metadata": {},
     "output_type": "execute_result"
    }
   ],
   "source": [
    "#Logistic Regression\n",
    "roc_auc_score(y_test,LOGRpred)"
   ]
  },
  {
   "cell_type": "code",
   "execution_count": 135,
   "id": "579e238a",
   "metadata": {},
   "outputs": [
    {
     "data": {
      "text/plain": [
       "0.8361593644394378"
      ]
     },
     "execution_count": 135,
     "metadata": {},
     "output_type": "execute_result"
    }
   ],
   "source": [
    "#Classifier with Random Forests\n",
    "roc_auc_score(y_test,RFCpred)"
   ]
  },
  {
   "cell_type": "code",
   "execution_count": 136,
   "id": "dc028101",
   "metadata": {},
   "outputs": [
    {
     "data": {
      "text/plain": [
       "0.8137190964605443"
      ]
     },
     "execution_count": 136,
     "metadata": {},
     "output_type": "execute_result"
    }
   ],
   "source": [
    "#Classifier SV\n",
    "roc_auc_score(y_test,SVpred)"
   ]
  },
  {
   "cell_type": "code",
   "execution_count": 137,
   "id": "40f00abb",
   "metadata": {},
   "outputs": [
    {
     "data": {
      "text/plain": [
       "0.8125629928262287"
      ]
     },
     "execution_count": 137,
     "metadata": {},
     "output_type": "execute_result"
    }
   ],
   "source": [
    "#Classifier for K Nearest Neighbours\n",
    "roc_auc_score(y_test,KNNpred)"
   ]
  },
  {
   "cell_type": "markdown",
   "id": "7ec7497d",
   "metadata": {},
   "source": [
    "With a roc_auc_score of 0.8441, Random Forest Classifier is the ideal model for the dataset."
   ]
  },
  {
   "cell_type": "markdown",
   "id": "b3144f3a",
   "metadata": {},
   "source": [
    "# ROC AUC graphs"
   ]
  },
  {
   "cell_type": "code",
   "execution_count": 138,
   "id": "f6539985",
   "metadata": {},
   "outputs": [
    {
     "data": {
      "image/png": "[encoded data removed]",
      "text/plain": [
       "<Figure size 640x480 with 1 Axes>"
      ]
     },
     "metadata": {},
     "output_type": "display_data"
    }
   ],
   "source": [
    "disp = plot_roc_curve(DTC,x_test,y_test)\n",
    "mod = [LOGR,RFC,SV,KNN]\n",
    "for i in mod:\n",
    "    plot_roc_curve(i,x_test,y_test, ax=disp.ax_)\n",
    "plt.legend(prop={'size':10}, loc = 'lower right')\n",
    "plt.show()"
   ]
  },
  {
   "cell_type": "markdown",
   "id": "4d0b4907",
   "metadata": {},
   "source": [
    "The Random Forest Classifier is the best model for the dataset, according to the graph and ROC auc score, with AUC = 0.90 and roc_auc_score = 0.83.\n"
   ]
  },
  {
   "cell_type": "markdown",
   "id": "c284da83",
   "metadata": {},
   "source": [
    "# Tuning for hyperparameters"
   ]
  },
  {
   "cell_type": "code",
   "execution_count": 139,
   "id": "31cc5579",
   "metadata": {},
   "outputs": [],
   "source": [
    "from sklearn.model_selection import GridSearchCV"
   ]
  },
  {
   "cell_type": "code",
   "execution_count": 140,
   "id": "bcfa20c3",
   "metadata": {},
   "outputs": [
    {
     "data": {
      "text/plain": [
       "GridSearchCV(cv=5, estimator=RandomForestClassifier(), n_jobs=-1,\n",
       "             param_grid={'criterion': ['gini', 'entropy'],\n",
       "                         'max_depth': [10, 20, 40, 60, 80],\n",
       "                         'max_features': ['auto', 'sqrt', 'log2'],\n",
       "                         'min_samples_leaf': [5, 10, 15, 20, 30],\n",
       "                         'min_samples_split': [2, 5, 10, 20],\n",
       "                         'n_estimators': [30, 50, 60]})"
      ]
     },
     "execution_count": 140,
     "metadata": {},
     "output_type": "execute_result"
    }
   ],
   "source": [
    "#Classifier with Random Forests\n",
    "parameter = {'n_estimators':[30,50,60],'max_depth': [10,20,40,60,80],'min_samples_leaf':[5,10,15,20,30],'min_samples_split':[2,5,10,20],'criterion':['gini','entropy'],'max_features':[\"auto\",\"sqrt\",\"log2\"]}\n",
    "GridCV = GridSearchCV(RandomForestClassifier(),parameter,cv=5,n_jobs = -1)\n",
    "GridCV.fit(x_train,y_train)"
   ]
  },
  {
   "cell_type": "code",
   "execution_count": 141,
   "id": "488e2ec1",
   "metadata": {},
   "outputs": [
    {
     "data": {
      "text/plain": [
       "{'criterion': 'entropy',\n",
       " 'max_depth': 10,\n",
       " 'max_features': 'log2',\n",
       " 'min_samples_leaf': 5,\n",
       " 'min_samples_split': 10,\n",
       " 'n_estimators': 30}"
      ]
     },
     "execution_count": 141,
     "metadata": {},
     "output_type": "execute_result"
    }
   ],
   "source": [
    "GridCV.best_params_"
   ]
  },
  {
   "cell_type": "code",
   "execution_count": 142,
   "id": "8da828c0",
   "metadata": {},
   "outputs": [
    {
     "name": "stdout",
     "output_type": "stream",
     "text": [
      "86.94029850746269\n"
     ]
    }
   ],
   "source": [
    "Best_mod1 = RandomForestClassifier(n_estimators = 60,criterion = 'gini', max_depth= 10, max_features = 'log2',min_samples_leaf = 5, min_samples_split = 2)\n",
    "Best_mod1.fit(x_train,y_train)\n",
    "rfpred = Best_mod1.predict(x_test)\n",
    "acc = accuracy_score(y_test,rfpred)\n",
    "print(acc*100)"
   ]
  },
  {
   "cell_type": "code",
   "execution_count": 143,
   "id": "afa82fe4",
   "metadata": {},
   "outputs": [
    {
     "data": {
      "text/plain": [
       "array([[156,  11],\n",
       "       [ 24,  77]], dtype=int64)"
      ]
     },
     "execution_count": 143,
     "metadata": {},
     "output_type": "execute_result"
    }
   ],
   "source": [
    "conf_matrx = confusion_matrix(y_test,rfpred)\n",
    "conf_matrx"
   ]
  },
  {
   "cell_type": "code",
   "execution_count": 144,
   "id": "a037aa25",
   "metadata": {},
   "outputs": [
    {
     "name": "stdout",
     "output_type": "stream",
     "text": [
      "              precision    recall  f1-score   support\n",
      "\n",
      "           0       0.87      0.93      0.90       167\n",
      "           1       0.88      0.76      0.81       101\n",
      "\n",
      "    accuracy                           0.87       268\n",
      "   macro avg       0.87      0.85      0.86       268\n",
      "weighted avg       0.87      0.87      0.87       268\n",
      "\n"
     ]
    }
   ],
   "source": [
    "cr = classification_report(y_test,rfpred)\n",
    "print(cr)"
   ]
  },
  {
   "cell_type": "code",
   "execution_count": 145,
   "id": "0dd48d30",
   "metadata": {},
   "outputs": [
    {
     "data": {
      "text/plain": [
       "['BestModelTitanic.pkl']"
      ]
     },
     "execution_count": 145,
     "metadata": {},
     "output_type": "execute_result"
    }
   ],
   "source": [
    "import joblib\n",
    "joblib.dump(Best_mod1,\"BestModelTitanic.pkl\")"
   ]
  },
  {
   "cell_type": "markdown",
   "id": "ba558c6e",
   "metadata": {},
   "source": [
    "# The Model's Loading"
   ]
  },
  {
   "cell_type": "code",
   "execution_count": 146,
   "id": "23ca0d79",
   "metadata": {},
   "outputs": [],
   "source": [
    "mod=joblib.load(\"BestModelTitanic.pkl\")"
   ]
  },
  {
   "cell_type": "code",
   "execution_count": 147,
   "id": "8f1cce17",
   "metadata": {},
   "outputs": [
    {
     "name": "stdout",
     "output_type": "stream",
     "text": [
      "[0 1 1 0 0 0 0 1 0 0 0 0 1 0 0 0 0 1 1 0 0 1 1 1 1 0 0 0 1 0 0 0 1 0 0 0 0\n",
      " 1 1 1 0 0 1 0 0 0 0 0 1 1 1 1 1 0 1 0 1 0 0 1 0 0 0 0 1 0 1 1 0 1 0 0 0 0\n",
      " 0 0 0 0 0 0 1 0 0 0 0 0 0 0 0 0 0 0 0 1 1 0 1 0 0 0 1 0 0 1 1 1 1 1 0 1 1\n",
      " 0 0 1 0 0 0 0 0 0 0 0 0 0 1 1 0 1 1 1 0 0 1 0 0 0 0 1 0 0 0 0 0 1 0 0 1 0\n",
      " 0 0 0 1 0 0 1 0 1 0 1 1 0 0 1 0 0 0 1 0 0 0 0 1 0 0 0 1 0 1 0 1 1 0 0 0 1\n",
      " 1 1 0 1 1 0 0 0 0 0 0 0 0 0 1 1 1 0 0 0 0 0 1 1 0 0 0 0 0 0 0 0 0 1 1 0 0\n",
      " 0 0 0 1 1 1 0 0 0 0 0 0 0 1 0 1 0 1 0 0 0 0 1 0 0 1 0 1 0 0 0 1 0 0 0 0 0\n",
      " 0 0 1 1 0 1 0 0 1]\n"
     ]
    }
   ],
   "source": [
    "print(mod.predict(x_test))"
   ]
  },
  {
   "cell_type": "code",
   "execution_count": null,
   "id": "f6a74ec9",
   "metadata": {},
   "outputs": [],
   "source": []
  }
 ],
 "metadata": {
  "kernelspec": {
   "display_name": "Python 3 (ipykernel)",
   "language": "python",
   "name": "python3"
  },
  "language_info": {
   "codemirror_mode": {
    "name": "ipython",
    "version": 3
   },
   "file_extension": ".py",
   "mimetype": "text/x-python",
   "name": "python",
   "nbconvert_exporter": "python",
   "pygments_lexer": "ipython3",
   "version": "3.9.13"
  }
 },
 "nbformat": 4,
 "nbformat_minor": 5
}
